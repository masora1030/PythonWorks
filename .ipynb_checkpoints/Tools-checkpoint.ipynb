{
 "cells": [
  {
   "cell_type": "code",
   "execution_count": 4,
   "metadata": {},
   "outputs": [
    {
     "name": "stdout",
     "output_type": "stream",
     "text": [
      "5\n",
      "1 2\n",
      "1 2 3 4\n",
      "5\n",
      "1, 2\n",
      "[1, 2, 3, 4]\n",
      "1 2 3 4\n"
     ]
    }
   ],
   "source": [
    "#入力\n",
    "n=int(input())                                #数値入力 「N」だけの入力のとき\n",
    "a,b=map(int, input().split())            #複数数値入力　「A B」みたいなスペース空いた入力のとき\n",
    "c=list(map(int, input().split()))       #リスト入力 「a1 a2 a3 ...」みたいな配列のような入力のとき\n",
    "print(n)\n",
    "print('{}, {}'.format(a,b))\n",
    "print(c)\n",
    "print(*c)  #リスト要素出力"
   ]
  },
  {
   "cell_type": "code",
   "execution_count": 3,
   "metadata": {},
   "outputs": [
    {
     "name": "stdout",
     "output_type": "stream",
     "text": [
      "000100-0.987655\n"
     ]
    }
   ],
   "source": [
    "a=100\n",
    "b=0.987654721\n",
    "print('{0:06d}-{1:6f}'.format(a,b))   # 0埋めのときの出力"
   ]
  },
  {
   "cell_type": "code",
   "execution_count": 5,
   "metadata": {},
   "outputs": [
    {
     "name": "stdout",
     "output_type": "stream",
     "text": [
      "#あ.あ#\n",
      "#あ#あ#\n",
      "7あ7あ7\n"
     ]
    }
   ],
   "source": [
    "for i in [['#','.','#'],['#','#','#'],[7,7,7]]:print(*i, sep='あ') #二次元リストで間を何かで詰めたもの"
   ]
  },
  {
   "cell_type": "code",
   "execution_count": 10,
   "metadata": {},
   "outputs": [
    {
     "name": "stdout",
     "output_type": "stream",
     "text": [
      "360\n"
     ]
    }
   ],
   "source": [
    "mod = 10**9+7 #出力の制限\n",
    "\n",
    "# n(n-1)(n-2)...(n-l)\n",
    "def kaijo(n, l, mod):\n",
    "    a = n\n",
    "    tmp = n-1\n",
    "    while(tmp >= l):\n",
    "        a = a*tmp%mod\n",
    "        tmp -= 1\n",
    "    return a\n",
    "\n",
    "print(kaijo(6,3,mod))"
   ]
  },
  {
   "cell_type": "code",
   "execution_count": 13,
   "metadata": {},
   "outputs": [
    {
     "data": {
      "text/plain": [
       "45"
      ]
     },
     "execution_count": 13,
     "metadata": {},
     "output_type": "execute_result"
    }
   ],
   "source": [
    "# nCr\n",
    "\n",
    "def ruijo(n, l, mod):\n",
    "    a = n\n",
    "    tmp = n-1\n",
    "    while(tmp >= l):\n",
    "        a = a*tmp%mod\n",
    "        tmp -= 1\n",
    "    return a\n",
    "\n",
    "def cmb(n, r, mod):\n",
    "    if r == 1:\n",
    "        return n\n",
    "    elif (n == r or r == 0):\n",
    "        return 1\n",
    "    else:\n",
    "        if ( r<0 or r>n ):\n",
    "            return 0\n",
    "        r = min(r, n-r)\n",
    "        return ruijo(n, n-r+1, mod) * g2[r] % mod\n",
    "\n",
    "mod = 10**9+7 #出力の制限\n",
    "N = 10**6\n",
    "g1 = [1, 1] # 元テーブル\n",
    "g2 = [1, 1] #逆元テーブル\n",
    "inverse = [0, 1] #逆元テーブル計算用テーブル\n",
    "\n",
    "for i in range( 2, N + 1 ):\n",
    "    g1.append( ( g1[-1] * i ) % mod )\n",
    "    inverse.append( ( -inverse[mod % i] * (mod//i) ) % mod )\n",
    "    g2.append( (g2[-1] * inverse[-1]) % mod )\n",
    "    \n",
    "cmb(10,2,mod)"
   ]
  },
  {
   "cell_type": "code",
   "execution_count": 15,
   "metadata": {},
   "outputs": [
    {
     "data": {
      "text/plain": [
       "256"
      ]
     },
     "execution_count": 15,
     "metadata": {},
     "output_type": "execute_result"
    }
   ],
   "source": [
    "# a^n\n",
    "def power(a,n,mod):\n",
    "    x = 1\n",
    "    while n:\n",
    "        if n & 1:\n",
    "            x *= a % mod\n",
    "        n >>= 1\n",
    "        a *= a % mod\n",
    "    return x % mod\n",
    "\n",
    "power(2,8,mod)"
   ]
  },
  {
   "cell_type": "code",
   "execution_count": 16,
   "metadata": {},
   "outputs": [
    {
     "name": "stdout",
     "output_type": "stream",
     "text": [
      "a:[0, 3, 0, 0, 0]\n",
      "b:[0, 3, 0, 0, 0], b2:[0, 0, 0, 0, 0]\n",
      "\n",
      "a:[[0, 0, 0], [5, 0, 0], [0, 0, 0], [0, 0, 0], [0, 0, 0]]\n",
      "b:[[0, 0, 0], [0, 0, 0], [0, 0, 0], [0, 0, 0], [0, 0, 0]]\n"
     ]
    }
   ],
   "source": [
    "## 初期化(コピー)\n",
    "a=[0]*5\n",
    "b=a            #浅いコピー\n",
    "b2=a[:]       #深いコピー 1次元のときはコピーはこれで良い\n",
    "a[1]=3\n",
    "print('a:{}'.format(a))\n",
    "print('b:{}, b2:{}'.format(b,b2))\n",
    "\n",
    "import copy\n",
    "a= [[0]*3 for i in range(5)]     #2次元配列はこう準備、[[0]*3]*5←これだとダメ\n",
    "b=copy.deepcopy(a)              #2次元配列はこうコピーする\n",
    "a[1][0]=5\n",
    "print()\n",
    "print('a:{}'.format(a))\n",
    "print('b:{}'.format(b))"
   ]
  },
  {
   "cell_type": "code",
   "execution_count": 17,
   "metadata": {},
   "outputs": [
    {
     "name": "stdout",
     "output_type": "stream",
     "text": [
      "[1, 3, 5, 7, 9, 11, 13, 15, 17, 19, 21, 23, 25, 27, 29]\n"
     ]
    }
   ],
   "source": [
    "#内包表記奇数のみ\n",
    "odd=[i for i in range(1, 30, 2)]\n",
    "print(odd)"
   ]
  },
  {
   "cell_type": "code",
   "execution_count": 18,
   "metadata": {},
   "outputs": [
    {
     "name": "stdout",
     "output_type": "stream",
     "text": [
      "[[1, 2], [2, 6], [4, 5], [5, 7], [6, 3]]\n",
      "[[5, 7], [2, 6], [4, 5], [6, 3], [1, 2]]\n"
     ]
    }
   ],
   "source": [
    "#リストソート\n",
    "w=[[2, 6] , [1, 2], [6, 3], [4, 5], [5, 7]]\n",
    "w.sort() #1個目の要素で昇順並び替え\n",
    "print(w)\n",
    "w.sort(key=lambda x:x[1],reverse=True) #二個目の要素で降順並び替え\n",
    "print(w)"
   ]
  },
  {
   "cell_type": "code",
   "execution_count": 19,
   "metadata": {},
   "outputs": [
    {
     "name": "stdout",
     "output_type": "stream",
     "text": [
      "[2, 3, 5, 7, 11, 13, 17, 19, 23, 29, 31, 37, 41, 43, 47, 53, 59, 61, 67, 71, 73, 79, 83, 89, 97]\n"
     ]
    }
   ],
   "source": [
    "#素数リスト\n",
    "n = 100\n",
    "primes = set(range(2, n+1))\n",
    "for i in range(2, int(n**0.5+1)):    #nのルート+1\n",
    "    primes.difference_update(range(i*2, n+1, i))\n",
    "primes=list(primes)\n",
    "print(primes)"
   ]
  },
  {
   "cell_type": "code",
   "execution_count": 21,
   "metadata": {},
   "outputs": [],
   "source": [
    "#素数\n",
    "n = 10**6\n",
    "primes = set(range(2, n+1))\n",
    "for i in range(2, int(n**0.5+1)):\n",
    "    primes.difference_update(range(i*2, n+1, i))\n",
    "primes=list(primes)\n",
    "# print(primes)"
   ]
  },
  {
   "cell_type": "code",
   "execution_count": 23,
   "metadata": {},
   "outputs": [
    {
     "name": "stdout",
     "output_type": "stream",
     "text": [
      "[1, 2, 3, 4, 5, 6, 7, 8, 9]\n",
      "7\n"
     ]
    }
   ],
   "source": [
    "#二部探索\n",
    "import bisect\n",
    "a = [1, 2, 3, 5, 6, 7, 8, 9]\n",
    "bisect.insort_left(a, 4)        #4を挿入\n",
    "b=bisect.bisect_left(a, 8)   #8の位置はどこ？(0オリジン)\n",
    "print(a)\n",
    "print(b)"
   ]
  },
  {
   "cell_type": "code",
   "execution_count": 24,
   "metadata": {},
   "outputs": [
    {
     "name": "stdout",
     "output_type": "stream",
     "text": [
      "12 40\n",
      "4 120\n",
      "720\n"
     ]
    },
    {
     "name": "stderr",
     "output_type": "stream",
     "text": [
      "/Users/takashimasora/.pyenv/versions/anaconda3-5.2.0/lib/python3.6/site-packages/ipykernel_launcher.py:5: DeprecationWarning: fractions.gcd() is deprecated. Use math.gcd() instead.\n",
      "  \"\"\"\n"
     ]
    }
   ],
   "source": [
    "#最大公約数、最小公倍数、階乗\n",
    "import fractions, math\n",
    "a,b=map(int, input().split())\n",
    "\n",
    "f=fractions.gcd(a,b)           #最大公約数\n",
    "f2=a*b//f                          #最小公倍数\n",
    "\n",
    "print(f,f2)\n",
    "\n",
    "print(math.factorial(6))      #階乗"
   ]
  },
  {
   "cell_type": "code",
   "execution_count": 25,
   "metadata": {},
   "outputs": [
    {
     "name": "stdout",
     "output_type": "stream",
     "text": [
      "1.5\n"
     ]
    }
   ],
   "source": [
    "#文字式を評価\n",
    "a=eval('1*2*3/4')\n",
    "print(a)"
   ]
  },
  {
   "cell_type": "code",
   "execution_count": 26,
   "metadata": {},
   "outputs": [
    {
     "name": "stdout",
     "output_type": "stream",
     "text": [
      "(2, 8)\n",
      "(1, 6)\n",
      "(3, 3)\n",
      "(4, 1)\n"
     ]
    }
   ],
   "source": [
    "#コンビネーション\n",
    "from collections import Counter\n",
    "a=[2,2,2,3,4,3,1,2,1,3,1,2,1,2,2,1,2,1]\n",
    "a=Counter(a)\n",
    "for i in a.most_common(4):print(i) #頻出順に"
   ]
  },
  {
   "cell_type": "code",
   "execution_count": 27,
   "metadata": {},
   "outputs": [
    {
     "name": "stdout",
     "output_type": "stream",
     "text": [
      "8\n",
      "8 1 2 3 4 6 5 7\n",
      "5\n"
     ]
    }
   ],
   "source": [
    "#しゃくとり方 (ex. 単調増加部分列の長さの最大値)\n",
    "n=int(input())\n",
    "a=list(map(int, input().split()))\n",
    "count=0\n",
    "right=0\n",
    "for left in range(n):\n",
    "    if left==right: right+=1\n",
    "    while right<n and a[right-1] < a[right]:\n",
    "        right+=1\n",
    "    count=max(count,right-left)\n",
    "print(count)"
   ]
  },
  {
   "cell_type": "code",
   "execution_count": 28,
   "metadata": {},
   "outputs": [
    {
     "name": "stdout",
     "output_type": "stream",
     "text": [
      "    [1, 2, 3, 4, 5, 6, 7, 8, 9, 10, 11, 12, 13, 14, 15, 16, 17, 18, 19, 20, 21, 22, 23, 24, 25, 26, 27, 28, 29]\n",
      "[0, 1, 3, 6, 10, 15, 21, 28, 36, 45, 55, 66, 78, 91, 105, 120, 136, 153, 171, 190, 210, 231, 253, 276, 300, 325, 351, 378, 406, 435]\n"
     ]
    },
    {
     "data": {
      "text/plain": [
       "22"
      ]
     },
     "execution_count": 28,
     "metadata": {},
     "output_type": "execute_result"
    }
   ],
   "source": [
    "# 累積和\n",
    "b=list(range(1,30))\n",
    "a2=[0]\n",
    "for i in b:a2.append(a2[-1]+i)\n",
    "print('    {}'.format(b))\n",
    "print(a2)\n",
    "def SumArea(l, r):\n",
    "    return a2[l]-a2[r]\n",
    "SumArea(3, 7)                           #a3 + a4 + a5 + a6  (a0 + a1 + a2を削除)"
   ]
  },
  {
   "cell_type": "code",
   "execution_count": 29,
   "metadata": {},
   "outputs": [
    {
     "name": "stdout",
     "output_type": "stream",
     "text": [
      "{2: 6, 3: 1, 13: 1, 136841: 1}\n"
     ]
    }
   ],
   "source": [
    "#素因数分解\n",
    "pf={}\n",
    "m=341555136\n",
    "for i in range(2,int(m**0.5)+1):\n",
    "    while m%i==0:\n",
    "        pf[i]=pf.get(i,0)+1\n",
    "        m//=i\n",
    "if m>1:pf[m]=1\n",
    "import pprint\n",
    "pprint.pprint(pf)"
   ]
  },
  {
   "cell_type": "code",
   "execution_count": 30,
   "metadata": {},
   "outputs": [
    {
     "name": "stdout",
     "output_type": "stream",
     "text": [
      "abcdefghijklmnopqrstuvwxyz\n"
     ]
    }
   ],
   "source": [
    "#アルファベット\n",
    "al=[chr(ord('a') + i) for i in range(26)]\n",
    "print(''.join(al))"
   ]
  },
  {
   "cell_type": "code",
   "execution_count": 34,
   "metadata": {},
   "outputs": [
    {
     "name": "stdout",
     "output_type": "stream",
     "text": [
      "8\n"
     ]
    }
   ],
   "source": [
    "#2で何回割れるか\n",
    "n = 256\n",
    "print(len(bin(n)) - bin(n).rfind(\"1\") - 1)"
   ]
  },
  {
   "cell_type": "code",
   "execution_count": 37,
   "metadata": {},
   "outputs": [
    {
     "name": "stdout",
     "output_type": "stream",
     "text": [
      "8\n",
      "11\n"
     ]
    }
   ],
   "source": [
    "#素数判定(素数でなければ、それ以上の最小の素数を出力)\n",
    "import math\n",
    "def is_prime(n):\n",
    "    if n == 1: return False\n",
    "\n",
    "    for k in range(2, int(math.sqrt(n)) + 1):\n",
    "        if n % k == 0:\n",
    "            return False\n",
    "    return True\n",
    "    \n",
    "x=int(input())\n",
    "for i in range(x, 2*x):\n",
    "    if is_prime(i):\n",
    "        print(i)\n",
    "        break"
   ]
  },
  {
   "cell_type": "code",
   "execution_count": 38,
   "metadata": {},
   "outputs": [
    {
     "name": "stdout",
     "output_type": "stream",
     "text": [
      "3\n",
      "1 2\n",
      "2 3\n",
      "2\n",
      "1\n",
      "2\n"
     ]
    }
   ],
   "source": [
    "# 例の塗り線問題\n",
    "\n",
    "import sys\n",
    "sys.setrecursionlimit(10**9)                    #再帰の深さブースト\n",
    "\n",
    "n = int(input())\n",
    "bfs_dic = [{} for i in range(n)]\n",
    "ans = [0 for i in range(n-1)]\n",
    "\n",
    "def bfs(pn, pc, node):\n",
    "    c = 1\n",
    "    max_c = 0\n",
    "    \n",
    "    if len(bfs_dic[node]) != 1 or pc == 0: #葉は見ない(葉でも最初だけは子を見る)\n",
    "        for k,v in bfs_dic[node].items():\n",
    "            if k == pn: continue #親と同じなら無視\n",
    "            if pc == c:                 #親と色被っちゃったら色変え\n",
    "                c+=1\n",
    "            ans[v] = c\n",
    "            maxable_c = bfs(node, c, k)\n",
    "            if max_c < maxable_c:\n",
    "                max_c = maxable_c\n",
    "            c+=1                        #子と自分の間に色割り当てて色変える\n",
    "        if max_c < c-1:\n",
    "            return c-1\n",
    "        else:\n",
    "            return max_c\n",
    "    return 1                                        #葉やったら1色しか使っとらん\n",
    "            \n",
    "for i in range(n-1):\n",
    "    a,b = map(int, input().split())\n",
    "    a-=1\n",
    "    b-=1\n",
    "    bfs_dic[a][b] = i\n",
    "    bfs_dic[b][a] = i\n",
    "\n",
    "print(bfs(-1, 0, 0))\n",
    "for i in ans:\n",
    "    print(i)"
   ]
  },
  {
   "cell_type": "code",
   "execution_count": 40,
   "metadata": {},
   "outputs": [
    {
     "name": "stdout",
     "output_type": "stream",
     "text": [
      "12 2 69 43 56\n",
      "69\n",
      "56\n",
      "43\n",
      "12\n",
      "2\n"
     ]
    }
   ],
   "source": [
    "import heapq # 優先度付きキュー(最小値取り出し)\n",
    "n = 5\n",
    "a = list(map(int, input().split()))\n",
    "a = list(map(lambda x: x*(-1), a))  # 各要素を-1倍\n",
    "\n",
    "heapq.heapify(a)   # ヒープ化\n",
    "\n",
    "for i in range(5):\n",
    "    tmp = heapq.heappop(a)*(-1)        # 最大値の取り出し\n",
    "    #  heapq.heappush(a, (-1)*(tmp//2)) # 1/2倍して最大値更新\n",
    "    print(tmp)"
   ]
  },
  {
   "cell_type": "code",
   "execution_count": 41,
   "metadata": {},
   "outputs": [
    {
     "name": "stdout",
     "output_type": "stream",
     "text": [
      "RDULULDURURLRDULRLR\n",
      "Yes\n"
     ]
    }
   ],
   "source": [
    "# enumerate\n",
    "\n",
    "import sys\n",
    "s = input()\n",
    "for i, notes in enumerate(s):\n",
    "    if i%2 == 1:\n",
    "        if notes == 'R':\n",
    "            print('No')\n",
    "            sys.exit()\n",
    "    else:\n",
    "        if notes == 'L':\n",
    "            print('No')\n",
    "            sys.exit()\n",
    "print('Yes')"
   ]
  },
  {
   "cell_type": "code",
   "execution_count": 42,
   "metadata": {},
   "outputs": [],
   "source": [
    "# Union Find\n",
    "class UnionFind():\n",
    "    def __init__(self, n):\n",
    "        self.n = n\n",
    "        self.parents = [-1] * n\n",
    "\n",
    "    def find(self, x):\n",
    "        if self.parents[x] < 0:\n",
    "            return x\n",
    "        else:\n",
    "            self.parents[x] = self.find(self.parents[x])\n",
    "            return self.parents[x]\n",
    "\n",
    "    def union(self, x, y):\n",
    "        x = self.find(x)\n",
    "        y = self.find(y)\n",
    "\n",
    "        if x == y:\n",
    "            return\n",
    "\n",
    "        if self.parents[x] > self.parents[y]:\n",
    "            x, y = y, x\n",
    "\n",
    "        self.parents[x] += self.parents[y]\n",
    "        self.parents[y] = x\n",
    "\n",
    "    def size(self, x):\n",
    "        return -self.parents[self.find(x)]\n",
    "\n",
    "    def same(self, x, y):\n",
    "        return self.find(x) == self.find(y)\n",
    "\n",
    "    def members(self, x):\n",
    "        root = self.find(x)\n",
    "        return [i for i in range(self.n) if self.find(i) == root]\n",
    "\n",
    "    def roots(self):\n",
    "        return [i for i, x in enumerate(self.parents) if x < 0]\n",
    "\n",
    "    def group_count(self):\n",
    "        return len(self.roots())\n",
    "\n",
    "    def all_group_members(self):\n",
    "        return {r: self.members(r) for r in self.roots()}\n",
    "\n",
    "    def __str__(self):\n",
    "        return '\\n'.join('{}: {}'.format(r, self.members(r)) for r in self.roots())\n",
    "    \n",
    "    \n",
    "# 例えば人の名前や都市の名前など何らかの文字列を元にUnion Findデータ構造を構成して処理したい場合は、文字列と番号のペアの辞書を用意すると便利。\n",
    "# {文字列: 番号, ... }と{番号: 文字列, ...}の辞書をそれぞれ用意する。ここでは辞書内包表記を使う。\n",
    "# l = ['A', 'B', 'C', 'D', 'E']\n",
    "\n",
    "# d = {x: i for i, x in enumerate(l)}\n",
    "# print(d)\n",
    "# # {'A': 0, 'B': 1, 'C': 2, 'D': 3, 'E': 4}\n",
    "\n",
    "# d_inv = {i: x for i, x in enumerate(l)}\n",
    "# print(d_inv)\n",
    "# # {0: 'A', 1: 'B', 2: 'C', 3: 'D', 4: 'E'}"
   ]
  },
  {
   "cell_type": "code",
   "execution_count": 43,
   "metadata": {},
   "outputs": [
    {
     "name": "stdout",
     "output_type": "stream",
     "text": [
      "[-1, -1, -1, -1, -1, -1]\n"
     ]
    }
   ],
   "source": [
    "uf = UnionFind(6)\n",
    "print(uf.parents)"
   ]
  },
  {
   "cell_type": "code",
   "execution_count": 45,
   "metadata": {},
   "outputs": [
    {
     "name": "stdout",
     "output_type": "stream",
     "text": [
      "[-2, -1, 0, -1, -1, -1]\n"
     ]
    }
   ],
   "source": [
    "uf.union(0, 2)\n",
    "print(uf.parents)"
   ]
  },
  {
   "cell_type": "code",
   "execution_count": 46,
   "metadata": {},
   "outputs": [],
   "source": [
    "# 要素が整数じゃなければ、以下の継承したやつを使う\n",
    "class UnionFindLabel(UnionFind):\n",
    "    def __init__(self, labels):\n",
    "        assert len(labels) == len(set(labels))\n",
    "\n",
    "        self.n = len(labels)\n",
    "        self.parents = [-1] * self.n\n",
    "        self.d = {x: i for i, x in enumerate(labels)}\n",
    "        self.d_inv = {i: x for i, x in enumerate(labels)}\n",
    "\n",
    "    def find_label(self, x):\n",
    "        return self.d_inv[super().find(self.d[x])]\n",
    "\n",
    "    def union(self, x, y):\n",
    "        super().union(self.d[x], self.d[y])\n",
    "\n",
    "    def size(self, x):\n",
    "        return super().size(self.d[x])\n",
    "\n",
    "    def same(self, x, y):\n",
    "        return super().same(self.d[x], self.d[y])\n",
    "\n",
    "    def members(self, x):\n",
    "        root = self.find(self.d[x])\n",
    "        return [self.d_inv[i] for i in range(self.n) if self.find(i) == root]\n",
    "\n",
    "    def roots(self):\n",
    "        return [self.d_inv[i] for i, x in enumerate(self.parents) if x < 0]"
   ]
  },
  {
   "cell_type": "code",
   "execution_count": 47,
   "metadata": {},
   "outputs": [
    {
     "name": "stdout",
     "output_type": "stream",
     "text": [
      "(0, 0): [(0, 0)]\n",
      "(0, 1): [(0, 1)]\n",
      "(1, 0): [(1, 0)]\n",
      "(1, 1): [(1, 1)]\n",
      "(0, 1): [(0, 0), (0, 1), (1, 0)]\n",
      "(1, 1): [(1, 1)]\n",
      "True\n"
     ]
    }
   ],
   "source": [
    "ufl_t = UnionFindLabel([(0, 0), (0, 1), (1, 0), (1,1)])   # 任意の要素(文字やタプル)をリストにして渡す。連番でなくとも良い。(要素がリストはNG)\n",
    "print(ufl_t)\n",
    "# (0, 0): [(0, 0)]\n",
    "# (0, 1): [(0, 1)]\n",
    "# (1, 0): [(1, 0)]\n",
    "# (1, 1): [(1, 1)]\n",
    "\n",
    "ufl_t.union((0, 1), (1, 0))\n",
    "ufl_t.union((0, 0), (1, 0))\n",
    "print(ufl_t)\n",
    "# (0, 1): [(0, 0), (0, 1), (1, 0)]\n",
    "# (1, 1): [(1, 1)]\n",
    "\n",
    "print(ufl_t.same((0, 1), (0, 0)))\n",
    "# True"
   ]
  },
  {
   "cell_type": "code",
   "execution_count": 51,
   "metadata": {},
   "outputs": [],
   "source": [
    "def keta(n):\n",
    "    count = 0\n",
    "    while n != 0:\n",
    "        n = n//10\n",
    "        count+=1\n",
    "    return count"
   ]
  },
  {
   "cell_type": "code",
   "execution_count": 75,
   "metadata": {},
   "outputs": [],
   "source": [
    "# 約数生成\n",
    "def make_divisors(n):\n",
    "    divisors = []\n",
    "    for i in range(1, int(n**0.5)+1):\n",
    "        if n % i == 0:\n",
    "            divisors.append(i)\n",
    "            if i != n // i:\n",
    "                divisors.append(n//i)\n",
    "\n",
    "    # divisors.sort()\n",
    "    return divisors"
   ]
  },
  {
   "cell_type": "code",
   "execution_count": null,
   "metadata": {},
   "outputs": [],
   "source": [
    "# 最小順に並べて置いて、一番左に追加したい時(二分探索も搭載)\n",
    "\n",
    "# これは、散らばる単調増加部分列の、最大値の更新をしていくやつ(色分け)\n",
    "\n",
    "n = int(input())\n",
    "from collections import deque\n",
    "import bisect\n",
    "first = int(input())\n",
    "a = [first]\n",
    "a = deque(a) # でキュー化\n",
    "\n",
    "for i in range(n-1):\n",
    "    num = int(input())\n",
    "    \n",
    "    if num <= a[0]:\n",
    "        a.appendleft(num)\n",
    "    else:\n",
    "        ind = bisect.bisect_left(a, num)\n",
    "        ind-=1\n",
    "        a[ind]=num\n",
    "print(len(a))"
   ]
  },
  {
   "cell_type": "code",
   "execution_count": null,
   "metadata": {},
   "outputs": [],
   "source": []
  },
  {
   "cell_type": "markdown",
   "metadata": {},
   "source": [
    "## ====================================="
   ]
  },
  {
   "cell_type": "code",
   "execution_count": null,
   "metadata": {},
   "outputs": [],
   "source": []
  },
  {
   "cell_type": "code",
   "execution_count": 57,
   "metadata": {},
   "outputs": [
    {
     "name": "stdout",
     "output_type": "stream",
     "text": [
      "04041bd99c55ae8951bc239c767535f1428ad9c17cf0f3fae41a3fb1691716fc\n"
     ]
    }
   ],
   "source": [
    "import requests\n",
    "import json\n",
    "\n",
    "def main(argv):\n",
    "    # このコードは引数と標準出力を用いたサンプルコードです。\n",
    "    # このコードは好きなように編集・削除してもらって構いません。\n",
    "    # ---\n",
    "    # This is a sample code to use arguments and outputs.\n",
    "    # Edit and remove this code as you like.\n",
    "\n",
    "    url = 'http://challenge-server.code-check.io/api/hash'\n",
    "\n",
    "    req = argv[0]\n",
    "    ## TODO 入力文字列のバリデーション\n",
    "    info = {'q':req}\n",
    "    res = requests.get(url, params = info)\n",
    "    if res.status_code == 200:\n",
    "        jsonData = res.json()\n",
    "        print(jsonData['hash'])\n",
    "    else:\n",
    "        print('Bad Request')\n",
    "\n",
    "if __name__ == '__main__':\n",
    "    main(['fizz'])"
   ]
  },
  {
   "cell_type": "code",
   "execution_count": 78,
   "metadata": {},
   "outputs": [
    {
     "name": "stdout",
     "output_type": "stream",
     "text": [
      "apple eat today you understand dear rar\n",
      "green sing\n"
     ]
    }
   ],
   "source": [
    "import sys\n",
    "\n",
    "def main(lines):\n",
    "    # このコードは標準入力と標準出力を用いたサンプルコードです。\n",
    "    # このコードは好きなように編集・削除してもらって構いません。\n",
    "    # ---\n",
    "    # This is a sample code to use stdin and stdout.\n",
    "    # Edit and remove this code as you like.\n",
    "    n = 0\n",
    "    a = []\n",
    "\n",
    "    for i, v in enumerate(lines):\n",
    "        n = int(lines[0])\n",
    "        a = lines[1]\n",
    "\n",
    "    # nが小さいので深さ優先のシュミレーションで間に合いそう\n",
    "    # 各単語始まりで深さ優先して、一番深いものを答えにする\n",
    "    # 最初の文字をキーとする辞書作ると良さげ\n",
    "    # 辞書の昇順にしたいのであらかじめ昇順にソート。最大の深さより大きかったら更新するようにする。(同じような奴も、昇順のものが優先される)\n",
    "    # 本当は、辺あたりの移動回数が制限されている有向グラフの最長経路を探索するのが良い。(1時間切ったらこっちで考える)\n",
    "    a.sort()\n",
    "    word_dic = {}\n",
    "    for word in a:\n",
    "        if word[0] in word_dic:\n",
    "            word_dic[word[0]].append(word) # すでにあったら追加\n",
    "        else:\n",
    "            word_dic[word[0]] = [word]     # なかったらリスト生成\n",
    "            \n",
    "    def judge(word, used):\n",
    "        i = a.index(word)\n",
    "        used_flag = False # 単語がすでに使いきられていたらTrueになる\n",
    "        while i < len(a):\n",
    "            if a[i] == word and used[i] == True:\n",
    "                break\n",
    "            if a[i] != word:\n",
    "                used_flag = True\n",
    "                break\n",
    "            i+=1\n",
    "        if i == len(a):\n",
    "            used_flag = True\n",
    "        return used_flag,i\n",
    "\n",
    "    def LongestChain(first_word, used):  # ans(逆順)と、深さを返す    \n",
    "        used_flag, i = judge(first_word, used)\n",
    "        if not used_flag: # 使われていなかったら、\n",
    "            used[i] = False # 使います\n",
    "        \n",
    "        no_next_word=True # 次の単語が存在しなかった場合、True\n",
    "        d_max=0           # 深さの最大値初期化\n",
    "        ans_return=[]     # 答えの初期化\n",
    "        if first_word[-1] in word_dic: # 辞書に次に行ける可能性ある単語が存在\n",
    "            for next_word in word_dic[first_word[-1]]: # 次の単語それぞれについて\n",
    "                \n",
    "                used_flag, i = judge(next_word, used)\n",
    "                if not used_flag: # すでに使われていなかったら、\n",
    "                    no_next_word=False # まだ使われておらず、続けられる次の単語が存在\n",
    "                    ans_middle, d_middle = LongestChain(next_word, used)\n",
    "                    if d_middle+1 > d_max:   # 深さ最大の更新\n",
    "                        d_max = d_middle+1\n",
    "                        ans_middle.append(first_word)\n",
    "                        ans_return = ans_middle\n",
    "                        \n",
    "        if no_next_word:    # 次の単語がなかったので、ここで終わり\n",
    "            return [first_word], 1\n",
    "        else:               # 次の単語があったので、リレー\n",
    "            return ans_return, d_max\n",
    "\n",
    "    max_d=0 # 最大深さ(しりとりの長さ)\n",
    "    s_a = set(a)\n",
    "    max_ans = {}\n",
    "    non_ans = {}\n",
    "    for word in a:\n",
    "        ans,d = LongestChain(word, [True for i in range(len(a))])\n",
    "        if d > max_d:\n",
    "            max_d = d\n",
    "            ans.reverse()\n",
    "            max_ans = ans\n",
    "            non_ans = s_a - set(max_ans)  # 差集合\n",
    "            non_ans = list(non_ans)\n",
    "            non_ans.sort()\n",
    "    print(*max_ans, sep=' ')\n",
    "    print(*non_ans, sep=' ')\n",
    "\n",
    "\n",
    "\n",
    "if __name__ == '__main__':\n",
    "    lines = [9, ['dear', 'sing', 'eat', 'green', 'apple', 'you', 'today', 'understand', 'rar']]\n",
    "    main(lines)"
   ]
  },
  {
   "cell_type": "code",
   "execution_count": null,
   "metadata": {},
   "outputs": [],
   "source": []
  }
 ],
 "metadata": {
  "kernelspec": {
   "display_name": "Python 3",
   "language": "python",
   "name": "python3"
  },
  "language_info": {
   "codemirror_mode": {
    "name": "ipython",
    "version": 3
   },
   "file_extension": ".py",
   "mimetype": "text/x-python",
   "name": "python",
   "nbconvert_exporter": "python",
   "pygments_lexer": "ipython3",
   "version": "3.6.8"
  }
 },
 "nbformat": 4,
 "nbformat_minor": 2
}
