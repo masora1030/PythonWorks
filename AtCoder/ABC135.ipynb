{
 "cells": [
  {
   "cell_type": "markdown",
   "metadata": {},
   "source": [
    "## ABC135"
   ]
  },
  {
   "cell_type": "code",
   "execution_count": 1,
   "metadata": {},
   "outputs": [],
   "source": [
    "# A\n",
    "a,b = map(int, input().split())\n",
    "if ( a+b) % 2 == 0:\n",
    "    print(( a+b)//2)\n",
    "else:\n",
    "    print('IMPOSSIBLE')"
   ]
  },
  {
   "cell_type": "code",
   "execution_count": 2,
   "metadata": {},
   "outputs": [],
   "source": [
    "# B\n",
    "n = int(input())\n",
    "a = list(map(int, input().split()))\n",
    "pre = 0\n",
    "onef = False\n",
    "twef = False\n",
    "badf = False\n",
    "for i,num in enumerate(a):\n",
    "    if i+1 != num:\n",
    "        if not onef:\n",
    "            onef = True\n",
    "            badf = True\n",
    "        elif not twef:\n",
    "            twef = True\n",
    "            badf = False\n",
    "        else:\n",
    "            badf = True\n",
    "if not badf:\n",
    "    print('YES')\n",
    "else:\n",
    "    print('NO')"
   ]
  },
  {
   "cell_type": "code",
   "execution_count": 3,
   "metadata": {},
   "outputs": [],
   "source": [
    "# C\n",
    "n = int(input())\n",
    "a = list(map(int, input().split()))\n",
    "b = list(map(int, input().split()))\n",
    "count = 0\n",
    "for i, atc in enumerate(b):\n",
    "    if a[i] >= atc:\n",
    "        a[i] = a[i] - atc\n",
    "        count+=atc\n",
    "    else:\n",
    "        atc = atc - a[i]\n",
    "        count+=a[i]\n",
    "        a[i] = 0\n",
    "        if a[i+1] >= atc:\n",
    "            a[i+1] = a[i+1] - atc\n",
    "            count+=atc\n",
    "        else:\n",
    "            atc = atc - a[i+1]\n",
    "            count+=a[i+1]\n",
    "            a[i+1] = 0\n",
    "print(count)"
   ]
  },
  {
   "cell_type": "code",
   "execution_count": 4,
   "metadata": {},
   "outputs": [],
   "source": [
    "# D\n",
    "s = str(input())\n",
    "n = len(s)\n",
    "MOD = 10**9 + 7\n",
    "\n",
    "res_dic = {}\n",
    "for i in range(13):\n",
    "    if (i*10)%13 in res_dic:\n",
    "        res_dic[(i*10)%13].append(i)\n",
    "    else:\n",
    "        res_dic[(i*10)%13] = [i]\n",
    "        \n",
    "caseq_list = [[0 for j in range(13)] for i in range(10)]\n",
    "for num in range(10):\n",
    "    for j in range(13):\n",
    "        k = (j - num)%13\n",
    "        if k in res_dic:\n",
    "            for m in res_dic[k]:\n",
    "                caseq_list[num][j] = m\n",
    "        \n",
    "dp = [[0 for j in range(13)] for i in range(n+1)]    # i番目までの文字を読み込んだ時に13で割った余りがjになる数の個数\n",
    "if s[0] == '?':\n",
    "    for i in range(10):\n",
    "        dp[1][i] =  1\n",
    "else:\n",
    "    num = ord(s[0]) - ord('0')\n",
    "    dp[1][num] = 1\n",
    "\n",
    "for i in range(1,n):\n",
    "    c = s[i]\n",
    "    if c == '?':\n",
    "        for num in range(10):\n",
    "            for j in range(13):\n",
    "                dp[i+1][j] = (dp[i+1][j] + dp[i][caseq_list[num][j]]) % MOD\n",
    "    else:\n",
    "        num = ord(c) - ord('0')\n",
    "        for j in range(13):\n",
    "            dp[i+1][j] = (dp[i+1][j] + dp[i][caseq_list[num][j]]) % MOD\n",
    "print(dp[n][5])"
   ]
  },
  {
   "cell_type": "code",
   "execution_count": null,
   "metadata": {},
   "outputs": [],
   "source": []
  }
 ],
 "metadata": {
  "kernelspec": {
   "display_name": "Python 3",
   "language": "python",
   "name": "python3"
  },
  "language_info": {
   "codemirror_mode": {
    "name": "ipython",
    "version": 3
   },
   "file_extension": ".py",
   "mimetype": "text/x-python",
   "name": "python",
   "nbconvert_exporter": "python",
   "pygments_lexer": "ipython3",
   "version": "3.6.8"
  }
 },
 "nbformat": 4,
 "nbformat_minor": 2
}
