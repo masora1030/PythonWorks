{
 "cells": [
  {
   "cell_type": "markdown",
   "metadata": {},
   "source": [
    "## ABC159"
   ]
  },
  {
   "cell_type": "code",
   "execution_count": 2,
   "metadata": {},
   "outputs": [
    {
     "name": "stdout",
     "output_type": "stream",
     "text": [
      "2 1\n",
      "1\n"
     ]
    }
   ],
   "source": [
    "n,m = map(int, input().split())\n",
    "ans = 0\n",
    "ans += n*(n-1)//2\n",
    "ans += m*(m-1)//2\n",
    "print(ans)"
   ]
  },
  {
   "cell_type": "code",
   "execution_count": 11,
   "metadata": {},
   "outputs": [
    {
     "name": "stdout",
     "output_type": "stream",
     "text": [
      "akasaka\n",
      "a_rev : aka    b_rev : aka\n",
      "Yes\n"
     ]
    }
   ],
   "source": [
    "s = input()\n",
    "n = len(s)\n",
    "a = s[:(n-1)//2]\n",
    "b = s[((n+3)//2)-1:]\n",
    "if a == b:\n",
    "    a_rev = a[::-1]\n",
    "    b_rev = b[::-1]\n",
    "    if a == a_rev and b == b_rev:\n",
    "        print('Yes')\n",
    "    else:\n",
    "        print('No')\n",
    "else:\n",
    "    print('No')"
   ]
  },
  {
   "cell_type": "code",
   "execution_count": 12,
   "metadata": {},
   "outputs": [
    {
     "name": "stdout",
     "output_type": "stream",
     "text": [
      "3\n",
      "1.0\n"
     ]
    }
   ],
   "source": [
    "l = int(input())\n",
    "print((l/3)**3)"
   ]
  },
  {
   "cell_type": "code",
   "execution_count": 14,
   "metadata": {},
   "outputs": [
    {
     "name": "stdout",
     "output_type": "stream",
     "text": [
      "8\n",
      "1 2 1 4 2 1 4 1\n",
      "5\n",
      "7\n",
      "5\n",
      "7\n",
      "7\n",
      "5\n",
      "7\n",
      "5\n"
     ]
    }
   ],
   "source": [
    "n = int(input())\n",
    "a = list(map(int, input().split()))\n",
    "num_dic = {}\n",
    "for i in a:\n",
    "    if i in num_dic:\n",
    "        num_dic[i]+=1\n",
    "    else:\n",
    "        num_dic[i] = 1\n",
    "pre_ans = 0\n",
    "for k,v in num_dic.items():\n",
    "    pre_ans+=v*(v-1)//2\n",
    "for num in a:\n",
    "    tmp = num_dic[num]\n",
    "    ans = pre_ans - (tmp-1)\n",
    "    print(ans)"
   ]
  },
  {
   "cell_type": "code",
   "execution_count": null,
   "metadata": {},
   "outputs": [],
   "source": [
    "h,w,k = map(int, input().split())\n",
    "s = [list(map(int, input().split())) for i in range(h)]\n",
    "ans = 0\n",
    "\n",
    "    "
   ]
  }
 ],
 "metadata": {
  "kernelspec": {
   "display_name": "Python 3",
   "language": "python",
   "name": "python3"
  },
  "language_info": {
   "codemirror_mode": {
    "name": "ipython",
    "version": 3
   },
   "file_extension": ".py",
   "mimetype": "text/x-python",
   "name": "python",
   "nbconvert_exporter": "python",
   "pygments_lexer": "ipython3",
   "version": "3.6.8"
  }
 },
 "nbformat": 4,
 "nbformat_minor": 2
}
