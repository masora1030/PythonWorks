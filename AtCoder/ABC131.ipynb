{
 "cells": [
  {
   "cell_type": "markdown",
   "metadata": {},
   "source": [
    "## ABC131"
   ]
  },
  {
   "cell_type": "code",
   "execution_count": 3,
   "metadata": {},
   "outputs": [
    {
     "name": "stdout",
     "output_type": "stream",
     "text": [
      "1234\n",
      "Good\n"
     ]
    }
   ],
   "source": [
    "# A\n",
    "import sys\n",
    "s = input()\n",
    "pre = ''\n",
    "for c in s:\n",
    "    if c == pre:\n",
    "        print('Bad')\n",
    "        sys.exit()\n",
    "    pre = c\n",
    "print('Good')"
   ]
  },
  {
   "cell_type": "code",
   "execution_count": 6,
   "metadata": {},
   "outputs": [
    {
     "name": "stdout",
     "output_type": "stream",
     "text": [
      "3 -1\n",
      "0\n"
     ]
    }
   ],
   "source": [
    "# B\n",
    "n,l = map(int,input().split())\n",
    "ans=0\n",
    "for i in range(1,n+1):\n",
    "    ans+=(l+i-1)\n",
    "if l+n-1 < 0:\n",
    "    print(ans-(l+n-1))\n",
    "elif l+n-1 >= 0 and l <= 0:\n",
    "    print(ans)\n",
    "else:\n",
    "    print(ans-l)"
   ]
  },
  {
   "cell_type": "code",
   "execution_count": 14,
   "metadata": {},
   "outputs": [
    {
     "name": "stdout",
     "output_type": "stream",
     "text": [
      "314159265358979323 846264338327950288 419716939 937510582\n",
      "532105071133627368\n"
     ]
    }
   ],
   "source": [
    "# C\n",
    "a,b,c,d = map(int,input().split())\n",
    "\n",
    "import fractions\n",
    "\n",
    "f=fractions.gcd(c,d)           #最大公約数\n",
    "f2=c*d//f                          #最小公倍数\n",
    "\n",
    "# a未満でcかdで割れるかず\n",
    "a-=1\n",
    "x = a//c\n",
    "y = a//d\n",
    "z = a//f2\n",
    "ac = x+y-z\n",
    "\n",
    "# b以下でcかdで割れるかず\n",
    "x = b//c\n",
    "y = b//d\n",
    "z = b//f2\n",
    "bc = x+y-z\n",
    "\n",
    "print(b-a-(bc-ac))"
   ]
  },
  {
   "cell_type": "code",
   "execution_count": 18,
   "metadata": {},
   "outputs": [
    {
     "name": "stdout",
     "output_type": "stream",
     "text": [
      "30\n",
      "384 8895\n",
      "1725 9791\n",
      "170 1024 \n",
      "4 11105 \n",
      "2 6\n",
      "578 1815\n",
      "702 3352\n",
      "143 5141\n",
      "1420 6980\n",
      "24 1602\n",
      "849 999\n",
      "76 7586\n",
      "85 5570\n",
      "444 4991\n",
      "719 11090\n",
      "470 10708\n",
      "1137 4547\n",
      "455 9003\n",
      "110 9901\n",
      "15 8578\n",
      "368 3692\n",
      "104 1286\n",
      "3 4\n",
      "366 12143\n",
      "7 6649\n",
      "610 2374\n",
      "152 7324\n",
      "4 7042\n",
      "292 11386\n",
      "334 5720\n",
      "Yes\n"
     ]
    }
   ],
   "source": [
    "# D\n",
    "import sys\n",
    "n = int(input())\n",
    "ab = [list(map(int, input().split())) for i in range(n)]\n",
    "ab.sort(key=lambda x: x[1])\n",
    "time = 0\n",
    "for work in ab:\n",
    "    if time+work[0] <= work[1]:\n",
    "        time+=work[0]\n",
    "    else:\n",
    "        print('No')\n",
    "        sys.exit()\n",
    "print('Yes')"
   ]
  },
  {
   "cell_type": "code",
   "execution_count": null,
   "metadata": {},
   "outputs": [],
   "source": []
  }
 ],
 "metadata": {
  "kernelspec": {
   "display_name": "Python 3",
   "language": "python",
   "name": "python3"
  },
  "language_info": {
   "codemirror_mode": {
    "name": "ipython",
    "version": 3
   },
   "file_extension": ".py",
   "mimetype": "text/x-python",
   "name": "python",
   "nbconvert_exporter": "python",
   "pygments_lexer": "ipython3",
   "version": "3.6.8"
  }
 },
 "nbformat": 4,
 "nbformat_minor": 2
}
