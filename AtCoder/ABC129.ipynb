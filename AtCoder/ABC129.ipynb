{
 "cells": [
  {
   "cell_type": "markdown",
   "metadata": {},
   "source": [
    "## ABC129"
   ]
  },
  {
   "cell_type": "code",
   "execution_count": 2,
   "metadata": {},
   "outputs": [
    {
     "name": "stdout",
     "output_type": "stream",
     "text": [
      "3 2 3\n",
      "5\n"
     ]
    }
   ],
   "source": [
    "a = list(map(int, input().split()))\n",
    "a.sort()\n",
    "print(a[0]+a[1])"
   ]
  },
  {
   "cell_type": "code",
   "execution_count": 6,
   "metadata": {},
   "outputs": [
    {
     "name": "stdout",
     "output_type": "stream",
     "text": [
      "8\n",
      "27 23 76 2 3 5 62 52\n",
      "2\n"
     ]
    }
   ],
   "source": [
    "n = int(input())\n",
    "w = list(map(int, input().split()))\n",
    "# 累積和\n",
    "a2=[0]\n",
    "for i in w:a2.append(a2[-1]+i)\n",
    "def SumArea(l, r):\n",
    "    return a2[l]-a2[r]\n",
    "\n",
    "minnum = 10**9+7\n",
    "\n",
    "for i in range(n+1):\n",
    "    tmp = abs(SumArea(i, n) - SumArea(0, i))\n",
    "    if tmp < minnum:\n",
    "        minnum = tmp\n",
    "    \n",
    "print(minnum)"
   ]
  },
  {
   "cell_type": "code",
   "execution_count": 9,
   "metadata": {},
   "outputs": [
    {
     "name": "stdout",
     "output_type": "stream",
     "text": [
      "100 5\n",
      "1\n",
      "23\n",
      "45\n",
      "67\n",
      "89\n",
      "608200469\n"
     ]
    }
   ],
   "source": [
    "n,m = map(int, input().split())\n",
    "a = [int(input()) for i in range(m)]\n",
    "mod = 10**9+7\n",
    "# i番目にたどり着く総数\n",
    "dp = [0 for i in range(n+1)]\n",
    "dp[0] = 1\n",
    "if 1 in a:\n",
    "    dp[1] = 0\n",
    "else:\n",
    "    dp[1] = 1\n",
    "for i in range(n-1):\n",
    "    if i+2 in a:\n",
    "        dp[i+2] = 0\n",
    "    else:\n",
    "        dp[i+2] = (dp[i] + dp[i+1])%mod\n",
    "print(dp[n])"
   ]
  },
  {
   "cell_type": "code",
   "execution_count": 15,
   "metadata": {},
   "outputs": [
    {
     "name": "stdout",
     "output_type": "stream",
     "text": [
      "5 2\n",
      "3 1 2 5\n",
      "2 2 3\n",
      "1 0\n",
      "8\n"
     ]
    }
   ],
   "source": [
    "n,m = map(int, input().split())\n",
    "dic_s = {}\n",
    "for i  in range(n):\n",
    "    dic_s[i] = []\n",
    "for i in range(m):\n",
    "    a = list(map(int, input().split()[1:]))\n",
    "    for num in a:\n",
    "        dic_s[num-1].append(i)\n",
    "p = list(map(int, input().split()))\n",
    "total = 0\n",
    "\n",
    "def judge_bright(judge):\n",
    "    for i,num in enumerate(judge):\n",
    "        if num%2 != p[i]:\n",
    "            return False\n",
    "    return True\n",
    "\n",
    "for i in range(2 ** n): # n個のスイッチの組み合わせ\n",
    "    judge = [0 for i in range(m)]\n",
    "    for j in range(n):  # このループが一番のポイント\n",
    "        if ((i >> j) & 1):  # 1だったら(オンだったら)\n",
    "            for d in dic_s[j]: #jのスイッチにつながる電球がカウントされる\n",
    "                judge[d] += 1\n",
    "    \n",
    "    if judge_bright(judge):      # ぜんぶついた！\n",
    "        total+=1\n",
    "print(total)"
   ]
  },
  {
   "cell_type": "code",
   "execution_count": null,
   "metadata": {},
   "outputs": [],
   "source": []
  }
 ],
 "metadata": {
  "kernelspec": {
   "display_name": "Python 3",
   "language": "python",
   "name": "python3"
  },
  "language_info": {
   "codemirror_mode": {
    "name": "ipython",
    "version": 3
   },
   "file_extension": ".py",
   "mimetype": "text/x-python",
   "name": "python",
   "nbconvert_exporter": "python",
   "pygments_lexer": "ipython3",
   "version": "3.6.8"
  }
 },
 "nbformat": 4,
 "nbformat_minor": 2
}
