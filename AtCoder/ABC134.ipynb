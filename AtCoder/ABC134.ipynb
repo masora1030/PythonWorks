{
 "cells": [
  {
   "cell_type": "code",
   "execution_count": 1,
   "metadata": {},
   "outputs": [
    {
     "name": "stdout",
     "output_type": "stream",
     "text": [
      "4\n",
      "48\n"
     ]
    }
   ],
   "source": [
    "# A\n",
    "r = int(input())\n",
    "print(3*r*r)"
   ]
  },
  {
   "cell_type": "code",
   "execution_count": 3,
   "metadata": {},
   "outputs": [
    {
     "name": "stdout",
     "output_type": "stream",
     "text": [
      "6 2\n",
      "2\n"
     ]
    }
   ],
   "source": [
    "# B\n",
    "n,d = map(int, input().split())\n",
    "cansee = d*2 + 1\n",
    "if n % cansee == 0:\n",
    "    print(n//cansee)\n",
    "else:\n",
    "    print(n//cansee+1)"
   ]
  },
  {
   "cell_type": "code",
   "execution_count": 5,
   "metadata": {},
   "outputs": [
    {
     "name": "stdout",
     "output_type": "stream",
     "text": [
      "2\n",
      "5\n",
      "5\n",
      "5\n",
      "5\n"
     ]
    }
   ],
   "source": [
    "# C\n",
    "n = int(input())\n",
    "a = [int(input()) for i in range(n)]\n",
    "maxa = [-1,0]\n",
    "premaxa = [-1,-1]\n",
    "for i,num in enumerate(a):\n",
    "    if num >= maxa[1]:\n",
    "        premaxa = [maxa[0], maxa[1]]\n",
    "        maxa = [i,num]\n",
    "    elif num > premaxa[1]:\n",
    "        premaxa = [i,num]\n",
    "for i in range(n):\n",
    "    if i == maxa[0]:\n",
    "        print(premaxa[1])\n",
    "    else:\n",
    "        print(maxa[1])"
   ]
  },
  {
   "cell_type": "code",
   "execution_count": 14,
   "metadata": {},
   "outputs": [
    {
     "name": "stdout",
     "output_type": "stream",
     "text": [
      "3\n",
      "1 0 0\n",
      "1\n",
      "1\n"
     ]
    }
   ],
   "source": [
    "# D\n",
    "n = int(input())\n",
    "a = list(map(int, input().split()))\n",
    "ans = [0 for i in range(n+1)]\n",
    "a.reverse()\n",
    "for i,num in enumerate(a):\n",
    "    sum_a = 0\n",
    "    for j in range(0, n+1, (n-i)):\n",
    "        sum_a += ans[j]\n",
    "    if sum_a%2 == 0:\n",
    "        if num == 1:\n",
    "            ans[n-i] = 1\n",
    "    else:\n",
    "        if num == 0:\n",
    "            ans[n-i] = 1\n",
    "sum_ans = 0\n",
    "ansprint = []\n",
    "for i,num in enumerate(ans):\n",
    "    if num == 1:\n",
    "        ansprint.append(i)\n",
    "        sum_ans+=1\n",
    "print(sum_ans)\n",
    "print(*ansprint, sep=' ')\n"
   ]
  },
  {
   "cell_type": "code",
   "execution_count": 34,
   "metadata": {},
   "outputs": [
    {
     "name": "stdout",
     "output_type": "stream",
     "text": [
      "5\n",
      "2\n",
      "1\n",
      "4\n",
      "5\n",
      "3\n",
      "2\n"
     ]
    }
   ],
   "source": [
    "# E\n",
    "n = int(input())\n",
    "from collections import deque\n",
    "import bisect\n",
    "first = int(input())\n",
    "a = [first]\n",
    "a = deque(a) # でキュー化\n",
    "\n",
    "for i in range(n-1):\n",
    "    num = int(input())\n",
    "    \n",
    "    if num <= a[0]:\n",
    "        a.appendleft(num)\n",
    "    else:\n",
    "        ind = bisect.bisect_left(a, num)\n",
    "        ind-=1\n",
    "        a[ind]=num\n",
    "print(len(a))"
   ]
  },
  {
   "cell_type": "markdown",
   "metadata": {},
   "source": [
    "#### E\n",
    "#しゃくとり方 (ex. 単調増加部分列の長さの最大値)\n",
    "n=int(input())\n",
    "a = [int(input()) for i in range(n)]\n",
    "\n",
    "count=0\n",
    "right=0\n",
    "for left in range(n):\n",
    "    if left==right: right+=1\n",
    "    while right<n and a[right-1] >= a[right]:\n",
    "        right+=1\n",
    "    count=max(count,right-left)\n",
    "print(count)"
   ]
  }
 ],
 "metadata": {
  "kernelspec": {
   "display_name": "Python 3",
   "language": "python",
   "name": "python3"
  },
  "language_info": {
   "codemirror_mode": {
    "name": "ipython",
    "version": 3
   },
   "file_extension": ".py",
   "mimetype": "text/x-python",
   "name": "python",
   "nbconvert_exporter": "python",
   "pygments_lexer": "ipython3",
   "version": "3.6.8"
  }
 },
 "nbformat": 4,
 "nbformat_minor": 2
}
