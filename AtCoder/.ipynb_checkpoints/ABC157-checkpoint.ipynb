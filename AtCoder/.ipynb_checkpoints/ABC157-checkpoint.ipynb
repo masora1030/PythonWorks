{
 "cells": [
  {
   "cell_type": "markdown",
   "metadata": {},
   "source": [
    "## ABC157"
   ]
  },
  {
   "cell_type": "code",
   "execution_count": 7,
   "metadata": {},
   "outputs": [
    {
     "name": "stdout",
     "output_type": "stream",
     "text": [
      "5\n",
      "3\n"
     ]
    }
   ],
   "source": [
    "# A\n",
    "n = int(input())\n",
    "if n%2 == 0:\n",
    "    print(n//2)\n",
    "else:\n",
    "    print(n//2+1)"
   ]
  },
  {
   "cell_type": "code",
   "execution_count": 19,
   "metadata": {},
   "outputs": [
    {
     "name": "stdout",
     "output_type": "stream",
     "text": [
      "41 7 46\n",
      "26 89 2\n",
      "78 92 8\n",
      "5\n",
      "6\n",
      "45\n",
      "16\n",
      "57\n",
      "17\n",
      "No\n"
     ]
    }
   ],
   "source": [
    "# B\n",
    "import sys\n",
    "a_list = []\n",
    "a = []\n",
    "c = [False for i in range(9)]\n",
    "for i in range(3):\n",
    "    a_list = list(map(int, input().split()))\n",
    "    for num in a_list:\n",
    "        a.append(num)\n",
    "n = int(input())\n",
    "for i in range(n):\n",
    "    num = int(input())\n",
    "    if num in a:\n",
    "        index = a.index(num)\n",
    "        c[index] = True\n",
    "\n",
    "if (c[0] and c[3] and c[6]) or (c[1] and c[4] and c[7]) or (c[2] and c[5] and c[8]) or (c[0] and c[1] and c[2]) or (c[3] and c[4] and c[5]) or (c[6] and c[7] and c[8]) or (c[0] and c[4] and c[8]) or (c[2] and c[4] and c[6]):\n",
    "    print('Yes')\n",
    "else:\n",
    "    print('No')"
   ]
  },
  {
   "cell_type": "code",
   "execution_count": 17,
   "metadata": {},
   "outputs": [
    {
     "name": "stdout",
     "output_type": "stream",
     "text": [
      "3 1\n",
      "1 0\n",
      "-1\n"
     ]
    }
   ],
   "source": [
    "# C\n",
    "f = True\n",
    "n,m = map(int, input().split())\n",
    "num = [-1 for i in range(n)]\n",
    "for i in range(m):\n",
    "    s,c = map(int, input().split())\n",
    "    if num[s-1] == -1:\n",
    "        num[s-1] = c\n",
    "    else:\n",
    "        if num[s-1] != c:\n",
    "            f = False\n",
    "if f:\n",
    "    if n == 1:\n",
    "        if  num[0] == -1:\n",
    "            print(0)\n",
    "        else:\n",
    "            print(num[0])\n",
    "    elif n == 2:\n",
    "        if num[0] == 0:\n",
    "            print(-1)\n",
    "        elif num[0] == -1:\n",
    "            if num[1] == -1:\n",
    "                print(10)\n",
    "            else:\n",
    "                print(10 + num[1])\n",
    "        else:\n",
    "            if num[1] == -1:\n",
    "                print(num[0]*10)\n",
    "            else:\n",
    "                print(num[0]*10 + num[1])\n",
    "    elif n == 3:\n",
    "        if num[0] == 0:\n",
    "            print(-1)\n",
    "        elif num[0] == -1:\n",
    "            if num[1] == -1:\n",
    "                if num[2] == -1:\n",
    "                    print(100)\n",
    "                else:\n",
    "                    print(100 + num[2])\n",
    "            else:\n",
    "                if num[2] == -1:\n",
    "                    print(100 + num[1]*10)\n",
    "                else:\n",
    "                    print(100 + num[1]*10 + num[2])\n",
    "        else:\n",
    "            if num[1] == -1:\n",
    "                if num[2] == -1:\n",
    "                    print(num[0]*100)\n",
    "                else:\n",
    "                    print(num[0]*100 + num[2])\n",
    "            else:\n",
    "                if num[2] == -1:\n",
    "                    print(num[0]*100 + num[1]*10)\n",
    "                else:\n",
    "                    print(num[0]*100 + num[1]*10 + num[2])\n",
    "else:\n",
    "    print(-1)"
   ]
  },
  {
   "cell_type": "code",
   "execution_count": 20,
   "metadata": {
    "scrolled": true
   },
   "outputs": [
    {
     "name": "stdout",
     "output_type": "stream",
     "text": [
      "4 4 1\n",
      "2 1\n",
      "1 3\n",
      "3 2\n",
      "3 4\n",
      "4 1\n",
      "0 0 0 0\n"
     ]
    }
   ],
   "source": [
    "# D\n",
    "n,m,k = map(int, input().split())\n",
    "friend = [[False for j in range(n+1)] for i in range(n+1)]\n",
    "block = [[False for j in range(n+1)] for i in range(n+1)]\n",
    "know = [[False for j in range(n+1)] for i in range(n+1)]\n",
    "ans = [[False for j in range(n+1)] for i in range(n+1)]\n",
    "mark = [False for i in range(n+1)]\n",
    "count = [0 for i in range(n)]\n",
    "from collections import deque\n",
    "q=deque([])\n",
    "for i in range(m):\n",
    "    a,b = map(int, input().split())\n",
    "    friend[a][b] = True\n",
    "    friend[b][a] = True\n",
    "for i in range(k):\n",
    "    a,b = map(int, input().split())\n",
    "    block[a][b] = True\n",
    "    block[b][a] = True\n",
    "for i in range(1, n+1):\n",
    "    if mark[i] == False:\n",
    "        q.append(i)\n",
    "        mark[i] = True\n",
    "        # 幅優先でknowを更新\n",
    "        while(1):\n",
    "            if q:\n",
    "                now = q.popleft()\n",
    "                for j in friend[now]:\n",
    "                    for k in friend[j]:\n",
    "                        if not(k in friend[now] or k in block[now] or k != now):\n",
    "                            ans[now][k] = True\n",
    "                            ans[k][now] = True\n",
    "                    if not mark[j]:\n",
    "                        mark[j] = True\n",
    "                        q.append(j)\n",
    "            else:\n",
    "                break\n",
    "for i in range(1, n+1):\n",
    "    for judge in ans[i]:\n",
    "        if judge:\n",
    "            count[i-1] += 1\n",
    "print(*count)"
   ]
  },
  {
   "cell_type": "code",
   "execution_count": 24,
   "metadata": {},
   "outputs": [
    {
     "name": "stdout",
     "output_type": "stream",
     "text": [
      "5 10 0\n",
      "1 2\n",
      "1 3\n",
      "1 4\n",
      "1 5\n",
      "3 2\n",
      "2 5\n",
      "2 4\n",
      "4 3\n",
      "5 3\n",
      "4 5\n",
      "0 0 0 0 0\n"
     ]
    }
   ],
   "source": [
    "# D 解き直し\n",
    "# Union Find\n",
    "class UnionFind():\n",
    "    def __init__(self, n):\n",
    "        self.n = n\n",
    "        self.parents = [-1] * n\n",
    "\n",
    "    def find(self, x):\n",
    "        if self.parents[x] < 0:\n",
    "            return x\n",
    "        else:\n",
    "            self.parents[x] = self.find(self.parents[x])\n",
    "            return self.parents[x]\n",
    "\n",
    "    def union(self, x, y):\n",
    "        x = self.find(x)\n",
    "        y = self.find(y)\n",
    "\n",
    "        if x == y:\n",
    "            return\n",
    "\n",
    "        if self.parents[x] > self.parents[y]:\n",
    "            x, y = y, x\n",
    "\n",
    "        self.parents[x] += self.parents[y]\n",
    "        self.parents[y] = x\n",
    "\n",
    "    def size(self, x):\n",
    "        return -self.parents[self.find(x)]\n",
    "\n",
    "    def same(self, x, y):\n",
    "        return self.find(x) == self.find(y)\n",
    "\n",
    "    def members(self, x):\n",
    "        root = self.find(x)\n",
    "        return [i for i in range(self.n) if self.find(i) == root]\n",
    "\n",
    "    def roots(self):\n",
    "        return [i for i, x in enumerate(self.parents) if x < 0]\n",
    "\n",
    "    def group_count(self):\n",
    "        return len(self.roots())\n",
    "\n",
    "    def all_group_members(self):\n",
    "        return {r: self.members(r) for r in self.roots()}\n",
    "\n",
    "    def __str__(self):\n",
    "        return '\\n'.join('{}: {}'.format(r, self.members(r)) for r in self.roots())\n",
    "    \n",
    "n,m,k = map(int, input().split())\n",
    "friend = [[False for j in range(n)] for i in range(n)]\n",
    "block = [[False for j in range(n)] for i in range(n)]\n",
    "ans = [0 for i in range(n)]\n",
    "unions = UnionFind(n)\n",
    "for i in range(m):\n",
    "    a,b = map(int, input().split())\n",
    "    friend[a-1][b-1] = True\n",
    "    friend[b-1][a-1] = True\n",
    "    unions.union(a-1, b-1)\n",
    "for i in range(k):\n",
    "    a,b = map(int, input().split())\n",
    "    block[a-1][b-1] = True\n",
    "    block[b-1][a-1] = True\n",
    "for i in range(n):\n",
    "    ms = unions.members(i)\n",
    "    count = 0\n",
    "    for m in ms:\n",
    "        if not(block[i][m] or friend[i][m]):\n",
    "            count += 1\n",
    "    ans[i] = count -1\n",
    "print(*ans)"
   ]
  },
  {
   "cell_type": "code",
   "execution_count": 5,
   "metadata": {},
   "outputs": [],
   "source": [
    "# E"
   ]
  },
  {
   "cell_type": "code",
   "execution_count": 6,
   "metadata": {},
   "outputs": [],
   "source": [
    "# F"
   ]
  }
 ],
 "metadata": {
  "kernelspec": {
   "display_name": "Python 3",
   "language": "python",
   "name": "python3"
  },
  "language_info": {
   "codemirror_mode": {
    "name": "ipython",
    "version": 3
   },
   "file_extension": ".py",
   "mimetype": "text/x-python",
   "name": "python",
   "nbconvert_exporter": "python",
   "pygments_lexer": "ipython3",
   "version": "3.6.8"
  }
 },
 "nbformat": 4,
 "nbformat_minor": 2
}
