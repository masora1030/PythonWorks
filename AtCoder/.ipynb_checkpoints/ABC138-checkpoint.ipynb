{
 "cells": [
  {
   "cell_type": "markdown",
   "metadata": {},
   "source": [
    "## ABC138"
   ]
  },
  {
   "cell_type": "code",
   "execution_count": 2,
   "metadata": {},
   "outputs": [
    {
     "name": "stdout",
     "output_type": "stream",
     "text": [
      "3200\n",
      "pink\n",
      "pink\n"
     ]
    }
   ],
   "source": [
    "# A\n",
    "a = int(input())\n",
    "s = str(input())\n",
    "if a < 3200:\n",
    "    print('red')\n",
    "else:\n",
    "    print(s)"
   ]
  },
  {
   "cell_type": "code",
   "execution_count": 5,
   "metadata": {},
   "outputs": [
    {
     "name": "stdout",
     "output_type": "stream",
     "text": [
      "2\n",
      "10 30\n",
      "7.5\n"
     ]
    }
   ],
   "source": [
    "# B\n",
    "n = int(input())\n",
    "a = list(map(int, input().split()))\n",
    "div = 0\n",
    "for i in range(n):\n",
    "    div += 1/a[i]\n",
    "ans = 1/div\n",
    "print(ans)"
   ]
  },
  {
   "cell_type": "code",
   "execution_count": 9,
   "metadata": {},
   "outputs": [
    {
     "name": "stdout",
     "output_type": "stream",
     "text": [
      "3\n",
      "500 300 200\n",
      "375.0\n"
     ]
    }
   ],
   "source": [
    "# C\n",
    "import heapq # 優先度付きキュー(最小値取り出し)\n",
    "n = int(input())\n",
    "v = list(map(int, input().split()))\n",
    "heapq.heapify(v)   # ヒープ化\n",
    "ans = 0\n",
    "for i in range(n-1):\n",
    "    tmp1 = heapq.heappop(v)               # 最小値の取り出し\n",
    "    tmp2 = heapq.heappop(v)               # 最小値の取り出し\n",
    "    tmp = (tmp1 + tmp2) / 2\n",
    "    heapq.heappush(v, tmp)\n",
    "ans = heapq.heappop(v)               # 最小値の取り出し\n",
    "print(ans)"
   ]
  },
  {
   "cell_type": "code",
   "execution_count": 28,
   "metadata": {},
   "outputs": [
    {
     "name": "stdout",
     "output_type": "stream",
     "text": [
      "4 3\n",
      "1 2\n",
      "2 3\n",
      "2 4\n",
      "2 10\n",
      "1 100\n",
      "3 1\n",
      "100 110 111 110\n"
     ]
    }
   ],
   "source": [
    "# D\n",
    "import sys\n",
    "sys.setrecursionlimit(10**9)                    #再帰の深さブースト\n",
    "\n",
    "def now2next(root, edge, score, ans):\n",
    "    childlist = edge[root]\n",
    "    if childlist:\n",
    "        ans[root-1] += score[root]\n",
    "        for child in childlist:\n",
    "            ans[child-1] += ans[root-1]\n",
    "            now2next(child, edge, score, ans)\n",
    "    else:\n",
    "        ans[root-1] += score[root]\n",
    "    \n",
    "n,q = map(int, input().split())\n",
    "edge = [[] for i in range(n+1)]\n",
    "score = [0 for i in range(n+1)]\n",
    "ans = [0 for i in range(n)]\n",
    "for i in range(n-1):\n",
    "    a,b = map(int, input().split())\n",
    "    edge[a].append(b)\n",
    "for req in range(q):\n",
    "    reqnode, x = map(int, input().split())\n",
    "    score[reqnode] += x\n",
    "now2next(1, edge, score, ans)\n",
    "print(*ans, sep=' ')"
   ]
  },
  {
   "cell_type": "code",
   "execution_count": null,
   "metadata": {},
   "outputs": [],
   "source": []
  }
 ],
 "metadata": {
  "kernelspec": {
   "display_name": "Python 3",
   "language": "python",
   "name": "python3"
  },
  "language_info": {
   "codemirror_mode": {
    "name": "ipython",
    "version": 3
   },
   "file_extension": ".py",
   "mimetype": "text/x-python",
   "name": "python",
   "nbconvert_exporter": "python",
   "pygments_lexer": "ipython3",
   "version": "3.6.8"
  }
 },
 "nbformat": 4,
 "nbformat_minor": 2
}
