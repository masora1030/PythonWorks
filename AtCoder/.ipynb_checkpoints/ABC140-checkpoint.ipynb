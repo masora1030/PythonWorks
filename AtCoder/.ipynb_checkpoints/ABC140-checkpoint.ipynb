{
 "cells": [
  {
   "cell_type": "markdown",
   "metadata": {},
   "source": [
    "## ABC140"
   ]
  },
  {
   "cell_type": "code",
   "execution_count": 5,
   "metadata": {},
   "outputs": [
    {
     "name": "stdout",
     "output_type": "stream",
     "text": [
      "2\n",
      "8\n"
     ]
    }
   ],
   "source": [
    "# A\n",
    "n = int(input())\n",
    "print(n**3)"
   ]
  },
  {
   "cell_type": "code",
   "execution_count": 8,
   "metadata": {},
   "outputs": [
    {
     "name": "stdout",
     "output_type": "stream",
     "text": [
      "4\n",
      "2 3 4 1\n",
      "13 5 8 24\n",
      "45 9 15\n",
      "74\n"
     ]
    }
   ],
   "source": [
    "# B\n",
    "n = int(input())\n",
    "a = list(map(int, input().split()))\n",
    "b = list(map(int, input().split()))\n",
    "c = list(map(int, input().split()))\n",
    "ans = 0\n",
    "past = -2\n",
    "for index in a:\n",
    "    ans += b[index-1]\n",
    "    if past == index-1:\n",
    "        ans += c[index-2]\n",
    "    past = index\n",
    "print(ans)"
   ]
  },
  {
   "cell_type": "code",
   "execution_count": 14,
   "metadata": {},
   "outputs": [
    {
     "name": "stdout",
     "output_type": "stream",
     "text": [
      "6\n",
      "0 153 10 10 23\n",
      "53\n"
     ]
    }
   ],
   "source": [
    "# C\n",
    "n = int(input())\n",
    "b = list(map(int, input().split()))\n",
    "a = [0 for i in range(n+1)]\n",
    "a[0] = b[0]\n",
    "for i in range(n-2):\n",
    "    a.append(min(b[i], b[i+1]))\n",
    "a.append(b[-1])\n",
    "print(sum(a))"
   ]
  },
  {
   "cell_type": "code",
   "execution_count": 26,
   "metadata": {},
   "outputs": [
    {
     "name": "stdout",
     "output_type": "stream",
     "text": [
      "6 1\n",
      "LRLRRL\n",
      "3\n"
     ]
    }
   ],
   "source": [
    "# D\n",
    "n, k = map(int ,input().split())\n",
    "s  = input()\n",
    "countX = 0\n",
    "countY = 0\n",
    "ans = n\n",
    "if s[0] ==  'L':\n",
    "    ans -= 1\n",
    "    countY += 1\n",
    "if s[-1] == 'R':\n",
    "    ans -= 1\n",
    "    countY += 1\n",
    "for i in range(n-1):\n",
    "    if s[i] == 'R' and s[i+1] == 'L':\n",
    "        countX += 1\n",
    "        ans -= 2\n",
    "for i in range(k,0,-1):\n",
    "    if countX > 0:\n",
    "        ans += 2\n",
    "        countX -= 1\n",
    "    if countX <= 0 and countY > 0:\n",
    "        ans += 1\n",
    "        countY -= 1\n",
    "print(ans)"
   ]
  },
  {
   "cell_type": "code",
   "execution_count": null,
   "metadata": {},
   "outputs": [],
   "source": []
  }
 ],
 "metadata": {
  "kernelspec": {
   "display_name": "Python 3",
   "language": "python",
   "name": "python3"
  },
  "language_info": {
   "codemirror_mode": {
    "name": "ipython",
    "version": 3
   },
   "file_extension": ".py",
   "mimetype": "text/x-python",
   "name": "python",
   "nbconvert_exporter": "python",
   "pygments_lexer": "ipython3",
   "version": "3.6.8"
  }
 },
 "nbformat": 4,
 "nbformat_minor": 2
}
