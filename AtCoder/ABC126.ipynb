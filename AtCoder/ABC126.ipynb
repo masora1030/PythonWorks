{
 "cells": [
  {
   "cell_type": "markdown",
   "metadata": {},
   "source": [
    "## ABC126"
   ]
  },
  {
   "cell_type": "code",
   "execution_count": 7,
   "metadata": {},
   "outputs": [
    {
     "name": "stdout",
     "output_type": "stream",
     "text": [
      "3 1\n",
      "ABC\n",
      "aBC\n"
     ]
    }
   ],
   "source": [
    "n,k = map(int, input().split())\n",
    "s = list(input())\n",
    "s[k-1] = s[k-1].lower()\n",
    "print(*s, sep='')"
   ]
  },
  {
   "cell_type": "code",
   "execution_count": 9,
   "metadata": {},
   "outputs": [
    {
     "name": "stdout",
     "output_type": "stream",
     "text": [
      "0112\n",
      "AMBIGUOUS\n"
     ]
    }
   ],
   "source": [
    "s = input()\n",
    "s1 = int(s[:2])\n",
    "s2 = int(s[2:])\n",
    "MMYY = False\n",
    "YYMM = False\n",
    "if 0<s1<13:\n",
    "    MMYY = True\n",
    "if 0<s2<13:\n",
    "    YYMM = True\n",
    "if MMYY and YYMM:\n",
    "    print('AMBIGUOUS')\n",
    "elif MMYY:\n",
    "    print('MMYY')\n",
    "elif YYMM:\n",
    "    print('YYMM')\n",
    "else:\n",
    "    print('NA')"
   ]
  },
  {
   "cell_type": "code",
   "execution_count": 19,
   "metadata": {},
   "outputs": [
    {
     "name": "stdout",
     "output_type": "stream",
     "text": [
      "100000 5\n",
      "0.99997375\n"
     ]
    }
   ],
   "source": [
    "\n",
    "n, k = map(int, input().split())\n",
    "ans = 0\n",
    "i=0\n",
    "pre = 0\n",
    "tmp = 0\n",
    "if n >= k:\n",
    "    ans += (n-k+1)\n",
    "    pre = k\n",
    "    i = 1\n",
    "    tmp = (pre+1)//2\n",
    "else:\n",
    "    pre = n+1\n",
    "    tmp = k\n",
    "    i=0\n",
    "    while n < tmp:\n",
    "        tmp = (tmp+1)//2\n",
    "        i+=1\n",
    "    ans += (pre-tmp)*((0.5)**i)\n",
    "    pre = tmp\n",
    "    i+=1\n",
    "    tmp = (pre+1)//2\n",
    "while pre != tmp:\n",
    "    # i回コインで面出す必要あり \n",
    "    ans += (pre-tmp)*((0.5)**i)\n",
    "    pre = tmp \n",
    "    i+=1\n",
    "    tmp = (pre+1)//2\n",
    "print(ans/n)"
   ]
  },
  {
   "cell_type": "code",
   "execution_count": 15,
   "metadata": {},
   "outputs": [
    {
     "data": {
      "text/plain": [
       "0.125"
      ]
     },
     "execution_count": 15,
     "metadata": {},
     "output_type": "execute_result"
    }
   ],
   "source": [
    "0.5**3"
   ]
  },
  {
   "cell_type": "code",
   "execution_count": 26,
   "metadata": {},
   "outputs": [
    {
     "name": "stdout",
     "output_type": "stream",
     "text": [
      "3\n",
      "1 2 2\n",
      "2 3 1\n",
      "0\n",
      "0\n",
      "1\n"
     ]
    }
   ],
   "source": [
    "import sys\n",
    "sys.setrecursionlimit(10**9)                    #再帰の深さブースト\n",
    "\n",
    "n = int(input())\n",
    "edge = [[] for i in range(n)]\n",
    "ans = [0 for i in range(n)]\n",
    "for i in range(n-1):\n",
    "    u,v,w = map(int, input().split())\n",
    "    edge[u-1].append([v-1,w%2])\n",
    "    edge[v-1].append([u-1,w%2])\n",
    "\n",
    "def bfsC(pre, now, nowc):\n",
    "    for node, weight in edge[now]:\n",
    "        if node != pre:\n",
    "            if weight:\n",
    "                ans[node] = 1-nowc\n",
    "                bfsC(now, node, 1-nowc)\n",
    "            else:\n",
    "                ans[node] = nowc\n",
    "                bfsC(now, node, nowc)\n",
    "bfsC(-1, 0, 0)\n",
    "for i in range(n):\n",
    "    print(ans[i])"
   ]
  },
  {
   "cell_type": "code",
   "execution_count": null,
   "metadata": {},
   "outputs": [],
   "source": [
    "# Union Find\n",
    "class UnionFind():\n",
    "    def __init__(self, n):\n",
    "        self.n = n\n",
    "        self.parents = [-1] * n\n",
    "\n",
    "    def find(self, x):\n",
    "        if self.parents[x] < 0:\n",
    "            return x\n",
    "        else:\n",
    "            self.parents[x] = self.find(self.parents[x])\n",
    "            return self.parents[x]\n",
    "\n",
    "    def union(self, x, y):\n",
    "        x = self.find(x)\n",
    "        y = self.find(y)\n",
    "\n",
    "        if x == y:\n",
    "            return\n",
    "\n",
    "        if self.parents[x] > self.parents[y]:\n",
    "            x, y = y, x\n",
    "\n",
    "        self.parents[x] += self.parents[y]\n",
    "        self.parents[y] = x\n",
    "\n",
    "    def size(self, x):\n",
    "        return -self.parents[self.find(x)]\n",
    "\n",
    "    def same(self, x, y):\n",
    "        return self.find(x) == self.find(y)\n",
    "\n",
    "    def members(self, x):\n",
    "        root = self.find(x)\n",
    "        return [i for i in range(self.n) if self.find(i) == root]\n",
    "\n",
    "    def roots(self):\n",
    "        return [i for i, x in enumerate(self.parents) if x < 0]\n",
    "\n",
    "    def group_count(self):\n",
    "        return len(self.roots())\n",
    "\n",
    "    def all_group_members(self):\n",
    "        return {r: self.members(r) for r in self.roots()}\n",
    "\n",
    "    def __str__(self):\n",
    "        return '\\n'.join('{}: {}'.format(r, self.members(r)) for r in self.roots())\n",
    "    \n",
    "n = int(input())\n",
    "uf = UnionFind(n)\n",
    "for i in range(n-1):\n",
    "    u,v,w = map(int, input().split())\n",
    "    if w%2 == 0:\n",
    "        uf.union(u, v)\n",
    "    else:\n",
    "        "
   ]
  }
 ],
 "metadata": {
  "kernelspec": {
   "display_name": "Python 3",
   "language": "python",
   "name": "python3"
  },
  "language_info": {
   "codemirror_mode": {
    "name": "ipython",
    "version": 3
   },
   "file_extension": ".py",
   "mimetype": "text/x-python",
   "name": "python",
   "nbconvert_exporter": "python",
   "pygments_lexer": "ipython3",
   "version": "3.6.8"
  }
 },
 "nbformat": 4,
 "nbformat_minor": 2
}
