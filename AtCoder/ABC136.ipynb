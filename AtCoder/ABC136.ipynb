{
 "cells": [
  {
   "cell_type": "markdown",
   "metadata": {},
   "source": [
    "## ABC136"
   ]
  },
  {
   "cell_type": "code",
   "execution_count": 2,
   "metadata": {},
   "outputs": [
    {
     "name": "stdout",
     "output_type": "stream",
     "text": [
      "12 3 7\n",
      "0\n"
     ]
    }
   ],
   "source": [
    "# A\n",
    "a,b,c = map(int,input().split())\n",
    "if a-b <= c:\n",
    "    print(c-(a-b))\n",
    "else:\n",
    "    print(0)"
   ]
  },
  {
   "cell_type": "code",
   "execution_count": 8,
   "metadata": {},
   "outputs": [
    {
     "name": "stdout",
     "output_type": "stream",
     "text": [
      "100000\n",
      "90909\n"
     ]
    }
   ],
   "source": [
    "# B\n",
    "def keta(n):\n",
    "    count = 0\n",
    "    while n != 0:\n",
    "        n = n//10\n",
    "        count+=1\n",
    "    return count\n",
    "\n",
    "n  = int(input())\n",
    "k = keta(n)\n",
    "if k == 1:\n",
    "    print(k)\n",
    "elif k == 2:\n",
    "    print(9)\n",
    "elif k == 3:\n",
    "    print(9 + n-99)\n",
    "elif k == 4:\n",
    "    print(909)\n",
    "elif k == 5:\n",
    "    print(909 + n-9999)\n",
    "elif k == 6:\n",
    "    print(90909)\n",
    "    "
   ]
  },
  {
   "cell_type": "code",
   "execution_count": 13,
   "metadata": {},
   "outputs": [
    {
     "name": "stdout",
     "output_type": "stream",
     "text": [
      "1\n",
      "1000000000\n",
      "Yes\n"
     ]
    }
   ],
   "source": [
    "# C\n",
    "n = int(input())\n",
    "h = list(map(int, input().split()))\n",
    "ans = True\n",
    "pre = -1\n",
    "for num in h:\n",
    "    if num > pre:\n",
    "        pre = num-1\n",
    "    elif num == pre:\n",
    "        pre = num\n",
    "    else:\n",
    "        ans = False\n",
    "        break\n",
    "if ans:\n",
    "    print('Yes')\n",
    "else:\n",
    "    print('No')"
   ]
  },
  {
   "cell_type": "code",
   "execution_count": 19,
   "metadata": {},
   "outputs": [
    {
     "name": "stdout",
     "output_type": "stream",
     "text": [
      "RRRLLRLLRRRLLLLL\n",
      "0 0 3 2 0 2 1 0 0 0 4 4 0 0 0 0\n"
     ]
    }
   ],
   "source": [
    "# D\n",
    "s = str(input())\n",
    "RLlist = []\n",
    "i = 0\n",
    "length = len(s)\n",
    "Rcount=0\n",
    "Lcount=0\n",
    "RLplace=-1\n",
    "ans = [0 for i in range(length)]\n",
    "while i < length:\n",
    "    Rcount=0\n",
    "    while i < length and s[i] == 'R':\n",
    "        Rcount+=1\n",
    "        i+=1\n",
    "    if i < length and s[i] == 'L':\n",
    "        RLplace = i-1\n",
    "        Lcount=0\n",
    "    while i < length and s[i] == 'L':\n",
    "        Lcount+=1\n",
    "        i+=1\n",
    "    RLlist.append((RLplace, Rcount, Lcount))\n",
    "\n",
    "for t in RLlist:\n",
    "    if t[1]%2 == 0 and t[2]%2 == 0:\n",
    "        ans[t[0]]+=(t[1]//2 + t[2]//2)\n",
    "        ans[t[0]+1]+=(t[1]//2 + t[2]//2)\n",
    "    elif t[1]%2 != 0 and t[2]%2 == 0:\n",
    "        ans[t[0]]+=(t[1]//2 + 1 + t[2]//2)\n",
    "        ans[t[0]+1]+=(t[1]//2 + t[2]//2)\n",
    "    elif t[1]%2 == 0 and t[2]%2 != 0:\n",
    "        ans[t[0]]+=(t[1]//2 + t[2]//2)\n",
    "        ans[t[0]+1]+=(t[1]//2 + 1 + t[2]//2)\n",
    "    else:\n",
    "        ans[t[0]]+=(t[1]//2 + 1 + t[2]//2)\n",
    "        ans[t[0]+1]+=(t[1]//2 + 1 + t[2]//2)\n",
    "print(*ans ,sep=' ')"
   ]
  },
  {
   "cell_type": "code",
   "execution_count": 24,
   "metadata": {},
   "outputs": [
    {
     "name": "stdout",
     "output_type": "stream",
     "text": [
      "2 0\n",
      "1 3\n",
      "1\n"
     ]
    }
   ],
   "source": [
    "# E\n",
    "def make_divisors(n):\n",
    "    divisors = []\n",
    "    for i in range(1, int(n**0.5)+1):\n",
    "        if n % i == 0:\n",
    "            divisors.append(i)\n",
    "            if i != n // i:\n",
    "                divisors.append(n//i)\n",
    "\n",
    "    divisors.sort()\n",
    "    return divisors\n",
    "\n",
    "def judge(cand, a, k, plus, minus, length, place):\n",
    "    if plus > k or minus > k:\n",
    "        return False\n",
    "    \n",
    "    if place == length:\n",
    "        if plus - minus == 0 and plus <=  k:\n",
    "            return True\n",
    "        else:\n",
    "            return False\n",
    "    else:\n",
    "        m = a[place] % cand\n",
    "        p = cand - m\n",
    "        return judge(cand, a, k, plus+p, minus, length, place+1) or judge(cand, a, k, plus, minus+m, length, place+1)\n",
    "        \n",
    "n,k = map(int, input().split())\n",
    "a = list(map(int, input().split()))\n",
    "# 候補はsum(a)の正約数。\n",
    "total = sum(a)\n",
    "length = len(a)\n",
    "candidate = make_divisors(total)\n",
    "candidate.sort(reverse = True)\n",
    "for cand in candidate:\n",
    "    if judge(cand, a, k, 0, 0, length, 0):\n",
    "        print(cand)\n",
    "        break"
   ]
  },
  {
   "cell_type": "code",
   "execution_count": 30,
   "metadata": {},
   "outputs": [
    {
     "name": "stdout",
     "output_type": "stream",
     "text": [
      "2 1\n",
      "1 3\n",
      "4\n"
     ]
    }
   ],
   "source": [
    "# E\n",
    "def make_divisors(n):\n",
    "    divisors = []\n",
    "    for i in range(1, int(n**0.5)+1):\n",
    "        if n % i == 0:\n",
    "            divisors.append(i)\n",
    "            if i != n // i:\n",
    "                divisors.append(n//i)\n",
    "\n",
    "    divisors.sort()\n",
    "    return divisors\n",
    "\n",
    "\n",
    "def SumArea(r, l, a2):\n",
    "    return a2[l]-a2[r]\n",
    "\n",
    "def judge(cand, a, k):\n",
    "    m_list = [i%cand for i in a]\n",
    "    m_list.sort()\n",
    "    p_list = [cand-r for r in m_list]\n",
    "    \n",
    "    # 累積和\n",
    "    b=list(range(1,30))\n",
    "    m2=[0]\n",
    "    p2=[0]\n",
    "    for i in m_list:m2.append(m2[-1]+i)\n",
    "    for i in p_list:p2.append(p2[-1]+i)\n",
    "        \n",
    "    length = len(a)\n",
    "    for i in range(length):\n",
    "        m_total  = SumArea(0, i, m2)\n",
    "        p_total = SumArea(i, length, p2)\n",
    "        if m_total == p_total and p_total <= k:\n",
    "            return True\n",
    "    return False\n",
    "    \n",
    "        \n",
    "n,k = map(int, input().split())\n",
    "a = list(map(int, input().split()))\n",
    "pflag = True\n",
    "# 候補はsum(a)の正約数。\n",
    "total = sum(a)\n",
    "length = len(a)\n",
    "candidate = make_divisors(total)\n",
    "candidate.sort(reverse = True)\n",
    "for cand in candidate:\n",
    "    if judge(cand, a, k):\n",
    "        print(cand)\n",
    "        pflag = False\n",
    "        break\n",
    "if pflag:\n",
    "    print(1)"
   ]
  },
  {
   "cell_type": "code",
   "execution_count": 31,
   "metadata": {},
   "outputs": [
    {
     "name": "stdout",
     "output_type": "stream",
     "text": [
      "2 16\n",
      "9\n"
     ]
    }
   ],
   "source": [
    "a,b = map(int, input().split())\n",
    "if ( a+b) % 2 == 0:\n",
    "    print(( a+b)//2)\n",
    "else:\n",
    "    print('IMPOSSIBLE')"
   ]
  },
  {
   "cell_type": "code",
   "execution_count": 40,
   "metadata": {},
   "outputs": [
    {
     "name": "stdout",
     "output_type": "stream",
     "text": [
      "7\n",
      "1 2 3 4 5 6 7\n",
      "YES\n"
     ]
    }
   ],
   "source": [
    "n = int(input())\n",
    "a = list(map(int, input().split()))\n",
    "pre = 0\n",
    "onef = False\n",
    "twef = False\n",
    "badf = False\n",
    "for i,num in enumerate(a):\n",
    "    if i+1 != num:\n",
    "        if not onef:\n",
    "            onef = True\n",
    "            badf = True\n",
    "        elif not twef:\n",
    "            twef = True\n",
    "            badf = False\n",
    "        else:\n",
    "            badf = True\n",
    "if not badf:\n",
    "    print('YES')\n",
    "else:\n",
    "    print('NO')"
   ]
  },
  {
   "cell_type": "code",
   "execution_count": 44,
   "metadata": {},
   "outputs": [
    {
     "name": "stdout",
     "output_type": "stream",
     "text": [
      "2\n",
      "100 1 1\n",
      "1 100\n",
      "3\n"
     ]
    }
   ],
   "source": [
    "n = int(input())\n",
    "a = list(map(int, input().split()))\n",
    "b = list(map(int, input().split()))\n",
    "count = 0\n",
    "for i, atc in enumerate(b):\n",
    "    if a[i] >= atc:\n",
    "        a[i] = a[i] - atc\n",
    "        count+=atc\n",
    "    else:\n",
    "        atc = atc - a[i]\n",
    "        count+=a[i]\n",
    "        a[i] = 0\n",
    "        if a[i+1] >= atc:\n",
    "            a[i+1] = a[i+1] - atc\n",
    "            count+=atc\n",
    "        else:\n",
    "            atc = atc - a[i+1]\n",
    "            count+=a[i+1]\n",
    "            a[i+1] = 0\n",
    "print(count)"
   ]
  },
  {
   "cell_type": "code",
   "execution_count": 63,
   "metadata": {},
   "outputs": [
    {
     "name": "stdout",
     "output_type": "stream",
     "text": [
      "?6?42???8??2??06243????9??3???7258??5??7???????774????4?1??17???9?5?70???76???\n",
      "153716888\n"
     ]
    }
   ],
   "source": [
    "s = str(input())\n",
    "n = len(s)\n",
    "MOD = 10**9 + 7\n",
    "\n",
    "res_dic = {}\n",
    "for i in range(13):\n",
    "    if (i*10)%13 in res_dic:\n",
    "        res_dic[(i*10)%13].append(i)\n",
    "    else:\n",
    "        res_dic[(i*10)%13] = [i]\n",
    "        \n",
    "caseq_list = [[0 for j in range(13)] for i in range(10)]\n",
    "for num in range(10):\n",
    "    for j in range(13):\n",
    "        k = (j - num)%13\n",
    "        if k in res_dic:\n",
    "            for m in res_dic[k]:\n",
    "                caseq_list[num][j] = m\n",
    "        \n",
    "dp = [[0 for j in range(13)] for i in range(n+1)]    # i番目までの文字を読み込んだ時に13で割った余りがjになる数の個数\n",
    "if s[0] == '?':\n",
    "    for i in range(10):\n",
    "        dp[1][i] =  1\n",
    "else:\n",
    "    num = ord(s[0]) - ord('0')\n",
    "    dp[1][num] = 1\n",
    "\n",
    "for i in range(1,n):\n",
    "    c = s[i]\n",
    "    if c == '?':\n",
    "        for num in range(10):\n",
    "            for j in range(13):\n",
    "                dp[i+1][j] = (dp[i+1][j] + dp[i][caseq_list[num][j]]) % MOD\n",
    "    else:\n",
    "        num = ord(c) - ord('0')\n",
    "        for j in range(13):\n",
    "            dp[i+1][j] = (dp[i+1][j] + dp[i][caseq_list[num][j]]) % MOD\n",
    "print(dp[n][5])"
   ]
  },
  {
   "cell_type": "code",
   "execution_count": null,
   "metadata": {},
   "outputs": [],
   "source": [
    " "
   ]
  }
 ],
 "metadata": {
  "kernelspec": {
   "display_name": "Python 3",
   "language": "python",
   "name": "python3"
  },
  "language_info": {
   "codemirror_mode": {
    "name": "ipython",
    "version": 3
   },
   "file_extension": ".py",
   "mimetype": "text/x-python",
   "name": "python",
   "nbconvert_exporter": "python",
   "pygments_lexer": "ipython3",
   "version": "3.6.8"
  }
 },
 "nbformat": 4,
 "nbformat_minor": 2
}
