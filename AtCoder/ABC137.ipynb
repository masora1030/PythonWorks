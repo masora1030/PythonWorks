{
 "cells": [
  {
   "cell_type": "markdown",
   "metadata": {},
   "source": [
    "## ABC137"
   ]
  },
  {
   "cell_type": "code",
   "execution_count": 20,
   "metadata": {},
   "outputs": [
    {
     "name": "stdout",
     "output_type": "stream",
     "text": [
      "1 1\n",
      "2 1\n",
      "[[2, 1]]\n",
      "0\n"
     ]
    }
   ],
   "source": [
    "import heapq # 優先度付きキュー(最小値取り出し)\n",
    "n,m = map(int, input().split())\n",
    "a = [list(map(int,input().split())) for i in range(n)]\n",
    "a.sort(reverse = True)\n",
    "b = []\n",
    "heapq.heapify(b)   # ヒープ化\n",
    "ans = 0\n",
    "\n",
    "for i in range(1,m+1):\n",
    "    while a and a[-1][0] == i:\n",
    "        val = a.pop()[1]\n",
    "        heapq.heappush(b, (-1)*(val))           # 今考えてる日にちの価値をpush\n",
    "    if b:\n",
    "        val = heapq.heappop(b)*(-1)             # 最大値の取り出し\n",
    "        ans += val\n",
    "print(ans)"
   ]
  },
  {
   "cell_type": "code",
   "execution_count": null,
   "metadata": {},
   "outputs": [],
   "source": []
  }
 ],
 "metadata": {
  "kernelspec": {
   "display_name": "Python 3",
   "language": "python",
   "name": "python3"
  },
  "language_info": {
   "codemirror_mode": {
    "name": "ipython",
    "version": 3
   },
   "file_extension": ".py",
   "mimetype": "text/x-python",
   "name": "python",
   "nbconvert_exporter": "python",
   "pygments_lexer": "ipython3",
   "version": "3.6.8"
  }
 },
 "nbformat": 4,
 "nbformat_minor": 2
}
