{
 "cells": [
  {
   "cell_type": "markdown",
   "metadata": {},
   "source": [
    "## ABC133"
   ]
  },
  {
   "cell_type": "code",
   "execution_count": 1,
   "metadata": {},
   "outputs": [
    {
     "name": "stdout",
     "output_type": "stream",
     "text": [
      "4 2 7\n",
      "7\n"
     ]
    }
   ],
   "source": [
    "# A\n",
    "n,a,b = map(int, input().split())\n",
    "if n*a > b:\n",
    "    print(b)\n",
    "else:\n",
    "    print(a*n)"
   ]
  },
  {
   "cell_type": "code",
   "execution_count": 4,
   "metadata": {},
   "outputs": [
    {
     "name": "stdout",
     "output_type": "stream",
     "text": [
      "3 2\n",
      "1 2\n",
      " 5 5\n",
      " -2 8\n",
      "1\n"
     ]
    }
   ],
   "source": [
    "# B\n",
    "n,d = map(int, input().split())\n",
    "xi = [list(map(int, input().split())) for i in range(n)]\n",
    "heihou = [i*i for i in range(200)]\n",
    "count=0\n",
    "for i in range(n-1):\n",
    "    for j in range(i+1, n):\n",
    "        total = 0\n",
    "        for k in range(d):\n",
    "            h = xi[i][k] - xi[j][k]\n",
    "            hpow = h*h\n",
    "            total+=hpow\n",
    "        if total in heihou:\n",
    "            count+=1\n",
    "print(count)"
   ]
  },
  {
   "cell_type": "code",
   "execution_count": 10,
   "metadata": {},
   "outputs": [
    {
     "name": "stdout",
     "output_type": "stream",
     "text": [
      "4 5\n",
      "20\n"
     ]
    }
   ],
   "source": [
    "# C\n",
    "l,r = map(int, input().split())\n",
    "mod = 2019\n",
    "if r-l >= mod:\n",
    "    print(0)\n",
    "else:\n",
    "    minnum = 2019\n",
    "    for i in range(l,r):\n",
    "        for j in range(i+1,r+1):\n",
    "            tmp = ((i%mod)*(j%mod))%mod\n",
    "            if tmp < minnum:\n",
    "                minnum = tmp\n",
    "    print(minnum)"
   ]
  },
  {
   "cell_type": "code",
   "execution_count": 24,
   "metadata": {},
   "outputs": [
    {
     "name": "stdout",
     "output_type": "stream",
     "text": [
      "5\n",
      "3 8 7 5 5\n",
      "[3, -8, 7, -5, 5]\n",
      "2 4 12 2 8\n"
     ]
    }
   ],
   "source": [
    "# D\n",
    "n = int(input())\n",
    "y = list(map(int, input().split()))\n",
    "for i,num in enumerate(y):\n",
    "    if i % 2 == 1:\n",
    "        y[i] = -y[i]\n",
    "\n",
    "a2=[0]\n",
    "for i in y:a2.append(a2[-1]+i)\n",
    "def SumArea(r, l):\n",
    "    return a2[l]-a2[r]\n",
    "    \n",
    "ans = [0 for i in range(n)]\n",
    "for i in range(n):\n",
    "    count=0\n",
    "    if i % 2 == 1:\n",
    "        count -= SumArea(i, n)\n",
    "        count += SumArea(0, i)\n",
    "    else:\n",
    "        count += SumArea(i, n)\n",
    "        count -= SumArea(0, i)\n",
    "    ans[i] = count\n",
    "print(*ans, sep=' ')"
   ]
  },
  {
   "cell_type": "markdown",
   "metadata": {},
   "source": []
  }
 ],
 "metadata": {
  "kernelspec": {
   "display_name": "Python 3",
   "language": "python",
   "name": "python3"
  },
  "language_info": {
   "codemirror_mode": {
    "name": "ipython",
    "version": 3
   },
   "file_extension": ".py",
   "mimetype": "text/x-python",
   "name": "python",
   "nbconvert_exporter": "python",
   "pygments_lexer": "ipython3",
   "version": "3.6.8"
  }
 },
 "nbformat": 4,
 "nbformat_minor": 2
}
