{
 "cells": [
  {
   "cell_type": "markdown",
   "metadata": {},
   "source": [
    "## ABC125"
   ]
  },
  {
   "cell_type": "code",
   "execution_count": 2,
   "metadata": {},
   "outputs": [
    {
     "name": "stdout",
     "output_type": "stream",
     "text": [
      "20 20 19\n",
      "0\n"
     ]
    }
   ],
   "source": [
    "a,b,t = map(int, input().split())\n",
    "print(b*(t//a))"
   ]
  },
  {
   "cell_type": "code",
   "execution_count": 4,
   "metadata": {},
   "outputs": [
    {
     "name": "stdout",
     "output_type": "stream",
     "text": [
      "1\n",
      "1\n",
      "50\n",
      "0\n"
     ]
    }
   ],
   "source": [
    "n = int(input())\n",
    "a = list(map(int, input().split()))\n",
    "c = list(map(int, input().split()))\n",
    "dp = [0 for i in range(n+1)] # iまで選んだ時の純利益の最大\n",
    "for i in range(n):\n",
    "    dp[i+1] = max(dp[i], dp[i]+a[i]-c[i])\n",
    "print(dp[n])"
   ]
  },
  {
   "cell_type": "code",
   "execution_count": 17,
   "metadata": {},
   "outputs": [
    {
     "name": "stdout",
     "output_type": "stream",
     "text": [
      "3\n",
      "7 6 8\n",
      "2\n"
     ]
    },
    {
     "name": "stderr",
     "output_type": "stream",
     "text": [
      "/Users/takashimasora/.pyenv/versions/anaconda3-5.2.0/lib/python3.6/site-packages/ipykernel_launcher.py:10: DeprecationWarning: fractions.gcd() is deprecated. Use math.gcd() instead.\n",
      "  # Remove the CWD from sys.path while we load stuff.\n",
      "/Users/takashimasora/.pyenv/versions/anaconda3-5.2.0/lib/python3.6/site-packages/ipykernel_launcher.py:17: DeprecationWarning: fractions.gcd() is deprecated. Use math.gcd() instead.\n",
      "/Users/takashimasora/.pyenv/versions/anaconda3-5.2.0/lib/python3.6/site-packages/ipykernel_launcher.py:24: DeprecationWarning: fractions.gcd() is deprecated. Use math.gcd() instead.\n"
     ]
    }
   ],
   "source": [
    "#最大公約数、最小公倍数、階乗\n",
    "import fractions\n",
    "n = int(input())\n",
    "a = list(map(int, input().split()))\n",
    "\n",
    "def calcGCDr():\n",
    "    R = [0 for i in range(n+1)]\n",
    "    R[n] = 0\n",
    "    for i in range(1,n+1):\n",
    "        R[n-i] = fractions.gcd(R[n-i+1],a[n-i])\n",
    "    return R\n",
    "\n",
    "def calcGCDl():\n",
    "    L = [0 for i in range(n+1)]\n",
    "    L[0] = 0\n",
    "    for i in range(n):\n",
    "        L[i+1] = fractions.gcd(L[i],a[i])\n",
    "    return L\n",
    "\n",
    "R = calcGCDr()\n",
    "L = calcGCDl()\n",
    "max_ans = 1\n",
    "for i in range(n):\n",
    "    pre_ans = fractions.gcd(L[i], R[i+1])\n",
    "    max_ans = max(pre_ans, max_ans)\n",
    "\n",
    "print(max_ans)"
   ]
  },
  {
   "cell_type": "code",
   "execution_count": 13,
   "metadata": {},
   "outputs": [
    {
     "name": "stdout",
     "output_type": "stream",
     "text": [
      "11\n",
      "-1000000000 1000000000 -1000000000 1000000000 -1000000000 0 1000000000 -1000000000 1000000000 -1000000000 1000000000\n",
      "10000000000\n"
     ]
    }
   ],
   "source": [
    "n = int(input())\n",
    "a = list(map(int, input().split()))\n",
    "dp = [[0 for j in range(2)] for i in range(n+1)]\n",
    "inf = 10**9+7\n",
    "dp[1][0], dp[1][1] = a[0], -a[0]\n",
    "for i in range(1, n-1):\n",
    "    dp[i+1][0] = max(dp[i][0]+a[i], dp[i][1]-a[i])\n",
    "    dp[i+1][1] = max(dp[i][0]-a[i], dp[i][1]+a[i])\n",
    "ans = max(dp[n-1][0]+a[-1], dp[n-1][1]-a[-1])\n",
    "print(ans)"
   ]
  },
  {
   "cell_type": "code",
   "execution_count": 16,
   "metadata": {},
   "outputs": [
    {
     "name": "stderr",
     "output_type": "stream",
     "text": [
      "/Users/takashimasora/.pyenv/versions/anaconda3-5.2.0/lib/python3.6/site-packages/ipykernel_launcher.py:1: DeprecationWarning: fractions.gcd() is deprecated. Use math.gcd() instead.\n",
      "  \"\"\"Entry point for launching an IPython kernel.\n"
     ]
    },
    {
     "data": {
      "text/plain": [
       "3"
      ]
     },
     "execution_count": 16,
     "metadata": {},
     "output_type": "execute_result"
    }
   ],
   "source": []
  },
  {
   "cell_type": "code",
   "execution_count": null,
   "metadata": {},
   "outputs": [],
   "source": [
    "n,m = map(int, input().split())\n",
    "break_stair = [False for i in range(n)]\n",
    "for i in range(m):\n",
    "    break_stair[int(input())-1] = True\n",
    "mod = 10**9+7\n",
    "# i番目にたどり着く総数\n",
    "dp = [0 for i in range(n+1)]\n",
    "dp[0] = 1\n",
    "if break_stair[0]:\n",
    "    dp[1] = 0\n",
    "else:\n",
    "    dp[1] = 1\n",
    "for i in range(n-1):\n",
    "    if break_stair[i+1]:\n",
    "        dp[i+2] = 0\n",
    "    else:\n",
    "        dp[i+2] = (dp[i] + dp[i+1])%mod\n",
    "print(dp[n])"
   ]
  },
  {
   "cell_type": "code",
   "execution_count": 23,
   "metadata": {},
   "outputs": [
    {
     "name": "stdout",
     "output_type": "stream",
     "text": [
      "4 2\n",
      "1 3\n",
      "2 4\n",
      "2\n"
     ]
    }
   ],
   "source": [
    "n,m = map(int, input().split())\n",
    "Lmin = 0\n",
    "Rmax = n\n",
    "for i in range(m):\n",
    "    L,R = map(int, input().split())\n",
    "    Lmin = max(L-1, Lmin)\n",
    "    Rmax = min(R, Rmax)\n",
    "if Lmin < Rmax:\n",
    "    ans = Rmax - Lmin\n",
    "else:\n",
    "    ans = 0\n",
    "print(ans)"
   ]
  },
  {
   "cell_type": "code",
   "execution_count": null,
   "metadata": {},
   "outputs": [],
   "source": []
  }
 ],
 "metadata": {
  "kernelspec": {
   "display_name": "Python 3",
   "language": "python",
   "name": "python3"
  },
  "language_info": {
   "codemirror_mode": {
    "name": "ipython",
    "version": 3
   },
   "file_extension": ".py",
   "mimetype": "text/x-python",
   "name": "python",
   "nbconvert_exporter": "python",
   "pygments_lexer": "ipython3",
   "version": "3.6.8"
  }
 },
 "nbformat": 4,
 "nbformat_minor": 2
}
