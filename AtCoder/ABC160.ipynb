{
 "cells": [
  {
   "cell_type": "markdown",
   "metadata": {},
   "source": [
    "## ABC160"
   ]
  },
  {
   "cell_type": "code",
   "execution_count": 3,
   "metadata": {},
   "outputs": [
    {
     "name": "stdout",
     "output_type": "stream",
     "text": [
      "1 2 3\n"
     ]
    }
   ],
   "source": [
    "a = list(map(int, input().split()))\n",
    "mod = 10**9+7"
   ]
  },
  {
   "cell_type": "code",
   "execution_count": 5,
   "metadata": {},
   "outputs": [
    {
     "name": "stdout",
     "output_type": "stream",
     "text": [
      "123456\n",
      "No\n"
     ]
    }
   ],
   "source": [
    "s = input()\n",
    "if s[2]==s[3] and s[4]==s[5]:\n",
    "    print('Yes')\n",
    "else:\n",
    "    print('No')"
   ]
  },
  {
   "cell_type": "code",
   "execution_count": 7,
   "metadata": {},
   "outputs": [
    {
     "name": "stdout",
     "output_type": "stream",
     "text": [
      "0\n",
      "0\n"
     ]
    }
   ],
   "source": [
    "x = int(input())\n",
    "d = x//500\n",
    "c = x%500\n",
    "c = c//5\n",
    "print(1000*d + 5*c)"
   ]
  },
  {
   "cell_type": "code",
   "execution_count": 17,
   "metadata": {},
   "outputs": [
    {
     "name": "stdout",
     "output_type": "stream",
     "text": [
      "20 3\n",
      "0 5 15\n",
      "10\n"
     ]
    }
   ],
   "source": [
    "k,n = map(int, input().split())\n",
    "a = list(map(int, input().split()))\n",
    "a.sort()\n",
    "maxdis = 0\n",
    "pre = a[-1] - k\n",
    "for dis in a:\n",
    "    t = dis - pre\n",
    "    pre = dis\n",
    "    if t > maxdis:\n",
    "        maxdis = t\n",
    "print(k-maxdis)"
   ]
  },
  {
   "cell_type": "code",
   "execution_count": 12,
   "metadata": {},
   "outputs": [
    {
     "name": "stdout",
     "output_type": "stream",
     "text": [
      "5 2 4\n",
      "5\n",
      "4\n",
      "1\n",
      "0\n"
     ]
    }
   ],
   "source": [
    "n,x,y = map(int, input().split())\n",
    "ans = [0 for i in range(n)]\n",
    "for i in range(1,n):\n",
    "    for j in range(i+1,n+1):\n",
    "        t = min(j-i, abs(x-i)+abs(y-j)+1)\n",
    "        ans[t]+=1\n",
    "\n",
    "for k in range(1,n):\n",
    "    print(ans[k])"
   ]
  },
  {
   "cell_type": "code",
   "execution_count": 26,
   "metadata": {},
   "outputs": [
    {
     "name": "stdout",
     "output_type": "stream",
     "text": [
      "1 2 2 2 1\n",
      "2 4\n",
      "5 1\n",
      "3\n",
      "14\n"
     ]
    }
   ],
   "source": [
    "x,y,a,b,c = map(int, input().split())\n",
    "p = list(map(int, input().split()))\n",
    "q = list(map(int, input().split()))\n",
    "r = list(map(int, input().split()))\n",
    "\n",
    "ans = 0\n",
    "\n",
    "\n",
    "# とりあえず足りない分無色で埋める\n",
    "r.sort(reverse = True)\n",
    "if a<x:\n",
    "    ans+=sum(r[:x-a])\n",
    "    r = r[x-a:]\n",
    "if b<y:\n",
    "    ans+=sum(r[:y-b])\n",
    "    r = r[y-b:]\n",
    "c = len(r)\n",
    "\n",
    "ans+=sum(p)+sum(q) # 無色をこれ以上食べないと仮定した時\n",
    "\n",
    "# ここからは、無色と赤緑を貪欲に入れ替えていく\n",
    "import heapq # 優先度付きキュー\n",
    "p.extend(q)     # 赤も緑も関係ないからpに統合\n",
    "heapq.heapify(p)   # ヒープ化\n",
    "r = list(map(lambda x: x*(-1), r))  # 最大値取り出しにしたいので、各要素を-1倍\n",
    "heapq.heapify(r)   # ヒープ化\n",
    "\n",
    "for i in range(c):\n",
    "    minp = heapq.heappop(p)        #最小値とりだし\n",
    "    maxr = heapq.heappop(r)*(-1)  #最大値取り出し\n",
    "    if minp >= maxr:\n",
    "        # もう入れ替える価値ない\n",
    "        break\n",
    "    else:\n",
    "        # 入れ替えよう\n",
    "        ans += (maxr - minp)\n",
    "\n",
    "print(ans)"
   ]
  },
  {
   "cell_type": "code",
   "execution_count": null,
   "metadata": {},
   "outputs": [],
   "source": []
  }
 ],
 "metadata": {
  "kernelspec": {
   "display_name": "Python 3",
   "language": "python",
   "name": "python3"
  },
  "language_info": {
   "codemirror_mode": {
    "name": "ipython",
    "version": 3
   },
   "file_extension": ".py",
   "mimetype": "text/x-python",
   "name": "python",
   "nbconvert_exporter": "python",
   "pygments_lexer": "ipython3",
   "version": "3.6.8"
  }
 },
 "nbformat": 4,
 "nbformat_minor": 2
}
