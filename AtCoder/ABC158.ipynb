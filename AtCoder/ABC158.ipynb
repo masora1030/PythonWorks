{
 "cells": [
  {
   "cell_type": "markdown",
   "metadata": {},
   "source": [
    "## ABC158"
   ]
  },
  {
   "cell_type": "code",
   "execution_count": 11,
   "metadata": {},
   "outputs": [
    {
     "name": "stdout",
     "output_type": "stream",
     "text": [
      "BBA\n",
      "Yes\n"
     ]
    }
   ],
   "source": [
    "# A\n",
    "s = str(input())\n",
    "if s[0] == s[1] and s[0] == s[2] and s[2] == s[1]:\n",
    "    print('No')\n",
    "else:\n",
    "    print('Yes')"
   ]
  },
  {
   "cell_type": "code",
   "execution_count": 32,
   "metadata": {},
   "outputs": [
    {
     "name": "stdout",
     "output_type": "stream",
     "text": [
      "8 0 4\n",
      "0\n"
     ]
    }
   ],
   "source": [
    "# B\n",
    "n,a,b  = map(int, input().split())\n",
    "if n%(a+b) <= a:\n",
    "    print(a*(n//(a + b)) + n%(a+b))\n",
    "else:\n",
    "    print(a*(n//(a + b)) + a)"
   ]
  },
  {
   "cell_type": "code",
   "execution_count": 30,
   "metadata": {},
   "outputs": [
    {
     "name": "stdout",
     "output_type": "stream",
     "text": [
      "2 2\n",
      "25\n"
     ]
    }
   ],
   "source": [
    "# C\n",
    "a,b = map(int, input().split())\n",
    "if a > b:\n",
    "    print(-1)\n",
    "else:\n",
    "    a_min, a_max, b_min, b_max = 0,0,0,0\n",
    "    \n",
    "    if (a*100)%8 == 0:\n",
    "        a_min = a/0.08\n",
    "    else:\n",
    "        a_min = a/0.08 + 1\n",
    "    a_max = a_min\n",
    "    while int(a_max*0.08) == a:\n",
    "        a_max += 1\n",
    "    a_max -= 1\n",
    "    \n",
    "    b_min = b*10\n",
    "    b_max = b_min\n",
    "    while int(b_max*0.1) == b:\n",
    "        b_max += 1\n",
    "    b_max -= 1\n",
    "    \n",
    "    if b_max >= a_min and a_max >= b_min:\n",
    "        print(int(max(a_min,b_min)))\n",
    "    else:\n",
    "        print(-1)"
   ]
  },
  {
   "cell_type": "code",
   "execution_count": 40,
   "metadata": {},
   "outputs": [
    {
     "name": "stdout",
     "output_type": "stream",
     "text": [
      "y\n",
      "1\n",
      "2 1 x\n",
      "xy\n"
     ]
    }
   ],
   "source": [
    "# D\n",
    "from collections import deque\n",
    "s = deque(str(input()))\n",
    "q_count = int(input())\n",
    "rev = False\n",
    "for i in range(q_count):\n",
    "    q = list(input().split())\n",
    "    if q[0] == '1':\n",
    "        rev = not(rev)\n",
    "    else:\n",
    "        if q[1] == '1':\n",
    "            if rev:\n",
    "                # 末尾にq[2]追加\n",
    "                s.append(q[2])\n",
    "            else:\n",
    "                # 先頭にq[2]追加\n",
    "                s.appendleft(q[2])\n",
    "        else:\n",
    "            if rev:\n",
    "                # 先頭にq[2]追加\n",
    "                s.appendleft(q[2])\n",
    "            else:\n",
    "                # 末尾にq[2]追加\n",
    "                s.append(q[2])\n",
    "if rev:\n",
    "    s.reverse()\n",
    "print(*s, sep='')"
   ]
  },
  {
   "cell_type": "code",
   "execution_count": 49,
   "metadata": {},
   "outputs": [
    {
     "name": "stdout",
     "output_type": "stream",
     "text": [
      "20 11\n",
      "33883322005544116655\n",
      "68\n"
     ]
    }
   ],
   "source": [
    "# E\n",
    "\n",
    "n,p = map(int, input().split())\n",
    "s = str(input())\n",
    "count=0\n",
    "for i in range(n):\n",
    "    for j in range(i,n+1):\n",
    "        if i != j:\n",
    "            if int(s[i:j]) % p == 0:\n",
    "                count+=1\n",
    "print(count)"
   ]
  },
  {
   "cell_type": "code",
   "execution_count": 7,
   "metadata": {},
   "outputs": [],
   "source": [
    "# F\n"
   ]
  },
  {
   "cell_type": "code",
   "execution_count": null,
   "metadata": {},
   "outputs": [],
   "source": []
  }
 ],
 "metadata": {
  "kernelspec": {
   "display_name": "Python 3",
   "language": "python",
   "name": "python3"
  },
  "language_info": {
   "codemirror_mode": {
    "name": "ipython",
    "version": 3
   },
   "file_extension": ".py",
   "mimetype": "text/x-python",
   "name": "python",
   "nbconvert_exporter": "python",
   "pygments_lexer": "ipython3",
   "version": "3.6.8"
  }
 },
 "nbformat": 4,
 "nbformat_minor": 2
}
