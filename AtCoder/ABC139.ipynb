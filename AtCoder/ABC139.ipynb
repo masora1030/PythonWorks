{
 "cells": [
  {
   "cell_type": "markdown",
   "metadata": {},
   "source": [
    "## ABC139"
   ]
  },
  {
   "cell_type": "code",
   "execution_count": 1,
   "metadata": {},
   "outputs": [
    {
     "name": "stdout",
     "output_type": "stream",
     "text": [
      "CSS\n",
      "CSR\n",
      "2\n"
     ]
    }
   ],
   "source": [
    "# A\n",
    "s = str(input())\n",
    "t = str(input())\n",
    "ans = 0\n",
    "for i in range(3):\n",
    "    if s[i] == t[i]:\n",
    "        ans += 1\n",
    "print(ans)"
   ]
  },
  {
   "cell_type": "code",
   "execution_count": 5,
   "metadata": {},
   "outputs": [
    {
     "name": "stdout",
     "output_type": "stream",
     "text": [
      "8 8\n",
      "1\n"
     ]
    }
   ],
   "source": [
    "# B\n",
    "a,b = map(int, input().split())\n",
    "if (b-1)%(a-1) == 0:\n",
    "    print((b-1)//(a-1))\n",
    "else:\n",
    "    print((b-1)//(a-1) + 1)"
   ]
  },
  {
   "cell_type": "code",
   "execution_count": 11,
   "metadata": {},
   "outputs": [
    {
     "name": "stdout",
     "output_type": "stream",
     "text": [
      "4\n",
      "1 2 3 4\n",
      "0\n"
     ]
    }
   ],
   "source": [
    "# C\n",
    "n = int(input())\n",
    "h = list(map(int, input().split()))\n",
    "ans = 0\n",
    "i = 0\n",
    "while i < n-1:\n",
    "    k = 0\n",
    "    while h[i] >= h[i+1]:\n",
    "        k+=1\n",
    "        i+=1\n",
    "        if i >= n-1: break\n",
    "    if k > ans:\n",
    "        ans = k\n",
    "    i+=1\n",
    "print(ans)"
   ]
  },
  {
   "cell_type": "code",
   "execution_count": 14,
   "metadata": {},
   "outputs": [
    {
     "name": "stdout",
     "output_type": "stream",
     "text": [
      " 2\n",
      "1\n"
     ]
    }
   ],
   "source": [
    "# D\n",
    "n = int(input())\n",
    "print(n*(n-1)//2)"
   ]
  },
  {
   "cell_type": "code",
   "execution_count": null,
   "metadata": {},
   "outputs": [],
   "source": []
  }
 ],
 "metadata": {
  "kernelspec": {
   "display_name": "Python 3",
   "language": "python",
   "name": "python3"
  },
  "language_info": {
   "codemirror_mode": {
    "name": "ipython",
    "version": 3
   },
   "file_extension": ".py",
   "mimetype": "text/x-python",
   "name": "python",
   "nbconvert_exporter": "python",
   "pygments_lexer": "ipython3",
   "version": "3.6.8"
  }
 },
 "nbformat": 4,
 "nbformat_minor": 2
}
