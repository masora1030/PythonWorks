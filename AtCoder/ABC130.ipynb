{
 "cells": [
  {
   "cell_type": "markdown",
   "metadata": {},
   "source": [
    "##  ABC130"
   ]
  },
  {
   "cell_type": "code",
   "execution_count": 1,
   "metadata": {},
   "outputs": [
    {
     "name": "stdout",
     "output_type": "stream",
     "text": [
      "3 5\n",
      "0\n"
     ]
    }
   ],
   "source": [
    "# A\n",
    "x,a = map(int, input().split())\n",
    "if x < a:\n",
    "    print(0)\n",
    "else:\n",
    "    print(10)"
   ]
  },
  {
   "cell_type": "code",
   "execution_count": 2,
   "metadata": {},
   "outputs": [
    {
     "name": "stdout",
     "output_type": "stream",
     "text": [
      "3 6\n",
      "3 4 5\n",
      "2\n"
     ]
    }
   ],
   "source": [
    "# B\n",
    "n,x = map(int, input().split())\n",
    "d = 0\n",
    "count = 1\n",
    "l = list(map(int, input().split()))\n",
    "for i in range(n):\n",
    "    d += l[i]\n",
    "    if d <= x:\n",
    "        count+=1\n",
    "print(count)"
   ]
  },
  {
   "cell_type": "code",
   "execution_count": 15,
   "metadata": {},
   "outputs": [
    {
     "name": "stdout",
     "output_type": "stream",
     "text": [
      "2 2 1 1\n",
      "2.0 1\n"
     ]
    }
   ],
   "source": [
    "# C\n",
    "w,h,x,y = map(int, input().split())\n",
    "area = w*h/2\n",
    "if x == w/2 and y == h/2:\n",
    "    print('{} {}'.format(area, 1))\n",
    "else:\n",
    "    print('{} {}'.format(area, 0))"
   ]
  },
  {
   "cell_type": "code",
   "execution_count": 19,
   "metadata": {},
   "outputs": [
    {
     "name": "stdout",
     "output_type": "stream",
     "text": [
      "10 53462\n",
      "103 35322 232 342 21099 90000 18843 9010 35221 19352\n",
      "36\n"
     ]
    }
   ],
   "source": [
    "# D\n",
    "n,k = map(int, input().split())\n",
    "a = list(map(int, input().split()))\n",
    "\n",
    "# 累積和\n",
    "a2=[0]\n",
    "for i in a:a2.append(a2[-1]+i)\n",
    "def SumArea(l, r):\n",
    "    return a2[r]-a2[l]\n",
    "\n",
    "#しゃくとり方 (ex. 単調増加部分列の長さの最大値)\n",
    "count=0\n",
    "right=0\n",
    "\n",
    "for left in range(n):\n",
    "    if left==right: right+=1\n",
    "    while right<n+1 and SumArea(left, right) < k:\n",
    "        right+=1\n",
    "    count+=(n-right+1)\n",
    "        \n",
    "print(count)"
   ]
  },
  {
   "cell_type": "code",
   "execution_count": null,
   "metadata": {},
   "outputs": [],
   "source": []
  }
 ],
 "metadata": {
  "kernelspec": {
   "display_name": "Python 3",
   "language": "python",
   "name": "python3"
  },
  "language_info": {
   "codemirror_mode": {
    "name": "ipython",
    "version": 3
   },
   "file_extension": ".py",
   "mimetype": "text/x-python",
   "name": "python",
   "nbconvert_exporter": "python",
   "pygments_lexer": "ipython3",
   "version": "3.6.8"
  }
 },
 "nbformat": 4,
 "nbformat_minor": 2
}
