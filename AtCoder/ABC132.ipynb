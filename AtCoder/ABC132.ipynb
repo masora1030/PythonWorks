{
 "cells": [
  {
   "cell_type": "markdown",
   "metadata": {},
   "source": [
    "## ABC132"
   ]
  },
  {
   "cell_type": "code",
   "execution_count": 6,
   "metadata": {},
   "outputs": [
    {
     "name": "stdout",
     "output_type": "stream",
     "text": [
      "assa\n",
      "Yes\n"
     ]
    }
   ],
   "source": [
    "# A\n",
    "import sys\n",
    "s = input()\n",
    "dic = {}\n",
    "for c in s:\n",
    "    if c in dic:\n",
    "        dic[c] += 1\n",
    "    else:\n",
    "        dic[c] = 1\n",
    "for v in dic.values():\n",
    "    if v != 2:\n",
    "        print('No')\n",
    "        sys.exit()\n",
    "print('Yes')"
   ]
  },
  {
   "cell_type": "code",
   "execution_count": 7,
   "metadata": {},
   "outputs": [
    {
     "name": "stdout",
     "output_type": "stream",
     "text": [
      "5\n",
      "1 3 5 4 2\n",
      "2\n"
     ]
    }
   ],
   "source": [
    "# B\n",
    "n = int(input())\n",
    "p = list(map(int, input().split()))\n",
    "ans = 0\n",
    "for i in range(1,n-1):\n",
    "    if (p[i+1] < p[i] < p[i-1] or p[i+1] > p[i] > p[i-1]):\n",
    "        ans += 1\n",
    "print(ans)"
   ]
  },
  {
   "cell_type": "code",
   "execution_count": 14,
   "metadata": {},
   "outputs": [
    {
     "name": "stdout",
     "output_type": "stream",
     "text": [
      "14\n",
      "99592 10342 29105 78532 83018 11639 92015 77204 30914 21912 34519 80835 100000 1\n",
      "42685\n"
     ]
    }
   ],
   "source": [
    "# C\n",
    "n = int(input())\n",
    "d = list(map(int, input().split()))\n",
    "d.sort()\n",
    "if n%2 == 1:\n",
    "    print(0)\n",
    "else:\n",
    "    mi = n//2-1\n",
    "    ml = d[mi]\n",
    "    mr = d[mi+1]\n",
    "    print(mr-ml)"
   ]
  },
  {
   "cell_type": "code",
   "execution_count": 19,
   "metadata": {},
   "outputs": [
    {
     "name": "stdout",
     "output_type": "stream",
     "text": [
      "2000 3\n",
      "1998\n",
      "3990006\n",
      "327341989\n"
     ]
    }
   ],
   "source": [
    "# D\n",
    "n,k = map(int, input().split())\n",
    "\n",
    "def ruijo(n, l, mod):\n",
    "    a = n\n",
    "    tmp = n-1\n",
    "    while(tmp >= l):\n",
    "        a = a*tmp%mod\n",
    "        tmp -= 1\n",
    "    return a\n",
    "\n",
    "def cmb(n, r, mod):\n",
    "    if r == 1:\n",
    "        return n\n",
    "    elif (n == r or r == 0):\n",
    "        return 1\n",
    "    else:\n",
    "        if ( r<0 or r>n ):\n",
    "            return 0\n",
    "        r = min(r, n-r)\n",
    "        return ruijo(n, n-r+1, mod) * g2[r] % mod\n",
    "\n",
    "mod = 10**9+7 #出力の制限\n",
    "N = 10**5\n",
    "g1 = [1, 1] # 元テーブル\n",
    "g2 = [1, 1] #逆元テーブル\n",
    "inverse = [0, 1] #逆元テーブル計算用テーブル\n",
    "\n",
    "for i in range( 2, N + 1 ):\n",
    "    g1.append( ( g1[-1] * i ) % mod )\n",
    "    inverse.append( ( -inverse[mod % i] * (mod//i) ) % mod )\n",
    "    g2.append( (g2[-1] * inverse[-1]) % mod )\n",
    "    \n",
    "for i in range(1,k+1):\n",
    "    print((cmb(k-1,i-1,mod) * cmb(n-k+1,i,mod))%mod)"
   ]
  },
  {
   "cell_type": "code",
   "execution_count": null,
   "metadata": {},
   "outputs": [],
   "source": []
  }
 ],
 "metadata": {
  "kernelspec": {
   "display_name": "Python 3",
   "language": "python",
   "name": "python3"
  },
  "language_info": {
   "codemirror_mode": {
    "name": "ipython",
    "version": 3
   },
   "file_extension": ".py",
   "mimetype": "text/x-python",
   "name": "python",
   "nbconvert_exporter": "python",
   "pygments_lexer": "ipython3",
   "version": "3.6.8"
  }
 },
 "nbformat": 4,
 "nbformat_minor": 2
}
